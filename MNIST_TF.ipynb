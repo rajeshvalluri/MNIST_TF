{
  "nbformat": 4,
  "nbformat_minor": 0,
  "metadata": {
    "colab": {
      "name": "MNIST_TF.ipynb",
      "provenance": [],
      "collapsed_sections": [],
      "authorship_tag": "ABX9TyNGpABTKoCUynAzyJfXhwXL",
      "include_colab_link": true
    },
    "kernelspec": {
      "name": "python3",
      "display_name": "Python 3"
    },
    "accelerator": "GPU"
  },
  "cells": [
    {
      "cell_type": "markdown",
      "metadata": {
        "id": "view-in-github",
        "colab_type": "text"
      },
      "source": [
        "<a href=\"https://colab.research.google.com/github/rajeshvalluri/MNIST_TF/blob/master/MNIST_TF.ipynb\" target=\"_parent\"><img src=\"https://colab.research.google.com/assets/colab-badge.svg\" alt=\"Open In Colab\"/></a>"
      ]
    },
    {
      "cell_type": "code",
      "metadata": {
        "id": "YciVxHrloD1e",
        "colab_type": "code",
        "colab": {
          "base_uri": "https://localhost:8080/",
          "height": 36
        },
        "outputId": "e6cb83e3-1ac7-418f-9c49-c64d8b5b55a0"
      },
      "source": [
        "import tensorflow as tf\n",
        "print(tf.__version__)"
      ],
      "execution_count": 173,
      "outputs": [
        {
          "output_type": "stream",
          "text": [
            "2.3.0\n"
          ],
          "name": "stdout"
        }
      ]
    },
    {
      "cell_type": "code",
      "metadata": {
        "id": "I_mAYEs0i7kj",
        "colab_type": "code",
        "colab": {}
      },
      "source": [
        "import tensorflow.keras\n",
        "from keras.models import Sequential\n",
        "from keras.layers import Dense, Conv2D, Dropout, MaxPool2D\n",
        "import numpy as np\n",
        "import pandas as pd\n",
        "import matplotlib as plt\n",
        "from scipy import *\n",
        "from PIL import Image, ImageOps\n",
        "%matplotlib inline\n"
      ],
      "execution_count": 174,
      "outputs": []
    },
    {
      "cell_type": "code",
      "metadata": {
        "id": "4HusvV4DoPCO",
        "colab_type": "code",
        "colab": {
          "base_uri": "https://localhost:8080/",
          "height": 36
        },
        "outputId": "ac34dc98-b24b-45f9-d388-bc2fba1f10a4"
      },
      "source": [
        "#Load the MNIST files from Google Drive\n",
        "from google.colab import drive\n",
        "drive.mount(\"/content/gdrive\")"
      ],
      "execution_count": 175,
      "outputs": [
        {
          "output_type": "stream",
          "text": [
            "Drive already mounted at /content/gdrive; to attempt to forcibly remount, call drive.mount(\"/content/gdrive\", force_remount=True).\n"
          ],
          "name": "stdout"
        }
      ]
    },
    {
      "cell_type": "code",
      "metadata": {
        "id": "q31bTsF8pT3a",
        "colab_type": "code",
        "colab": {}
      },
      "source": [
        "#load Training data into a datalist\n",
        "data_file = open(\"//content/gdrive/My Drive/MNIST/mnist_train.csv\",'r')\n",
        "data_list = data_file.readlines()\n",
        "data_file.close()"
      ],
      "execution_count": 176,
      "outputs": []
    },
    {
      "cell_type": "code",
      "metadata": {
        "id": "t-XvvHleUaPO",
        "colab_type": "code",
        "colab": {}
      },
      "source": [
        "input_shape = 784"
      ],
      "execution_count": 177,
      "outputs": []
    },
    {
      "cell_type": "code",
      "metadata": {
        "id": "66lTSUaPs88Y",
        "colab_type": "code",
        "colab": {}
      },
      "source": [
        "#Load data and labels into X_train and y_train respectively\n",
        "X_train = []\n",
        "y_train = []\n",
        "for rows in data_list:\n",
        "  X_train.append(np.asfarray(rows.split(',')[1:]))\n",
        "  y_train.append(int(rows.split(',')[0]))"
      ],
      "execution_count": 194,
      "outputs": []
    },
    {
      "cell_type": "code",
      "metadata": {
        "id": "EQ2w-tKKqcB-",
        "colab_type": "code",
        "colab": {
          "base_uri": "https://localhost:8080/",
          "height": 284
        },
        "outputId": "0ed63a6e-4b7d-4eda-d007-c5e7188aca76"
      },
      "source": [
        "#Check a couple of images and their corresponding labels.\n",
        "X_train = np.array(X_train)/255.0 + 0.01#scaling input data to be between 0 and 1\n",
        "y_train = np.array(y_train)\n",
        "plt.pyplot.imshow(X_train[900].reshape([28,28]),cmap='Greys',interpolation='None')"
      ],
      "execution_count": 195,
      "outputs": [
        {
          "output_type": "execute_result",
          "data": {
            "text/plain": [
              "<matplotlib.image.AxesImage at 0x7fd1dd0db080>"
            ]
          },
          "metadata": {
            "tags": []
          },
          "execution_count": 195
        },
        {
          "output_type": "display_data",
          "data": {
            "image/png": "[encoded data removed]",
            "text/plain": [
              "<Figure size 432x288 with 1 Axes>"
            ]
          },
          "metadata": {
            "tags": [],
            "needs_background": "light"
          }
        }
      ]
    },
    {
      "cell_type": "code",
      "metadata": {
        "id": "yyIW2hUOTKXP",
        "colab_type": "code",
        "colab": {}
      },
      "source": [
        "model = Sequential()\n",
        "model.add(Dense(units=input_shape,activation=None))\n",
        "model.add(Dense(units = 100,activation= 'relu'))\n",
        "model.add(Dropout(0.10))\n",
        "model.add(Dense(units = 100,activation= 'relu'))\n",
        "model.add(Dropout(0.10))\n",
        "model.add(Dense(units=10,activation='softmax'))\n",
        "opt = tf.keras.optimizers.Adam()\n",
        "metrics = 'accuracy'\n",
        "loss = 'sparse_categorical_crossentropy'\n",
        "model.compile(optimizer=opt,loss=loss,metrics=[metrics])\n",
        "#model.summary()"
      ],
      "execution_count": 196,
      "outputs": []
    },
    {
      "cell_type": "code",
      "metadata": {
        "id": "PVETIKgGdEvL",
        "colab_type": "code",
        "colab": {
          "base_uri": "https://localhost:8080/",
          "height": 36
        },
        "outputId": "1514dde0-3117-43bc-a3e3-242e09fa803d"
      },
      "source": [
        "print(model.summary)"
      ],
      "execution_count": 181,
      "outputs": [
        {
          "output_type": "stream",
          "text": [
            "<bound method Model.summary of <tensorflow.python.keras.engine.sequential.Sequential object at 0x7fd1d4483080>>\n"
          ],
          "name": "stdout"
        }
      ]
    },
    {
      "cell_type": "code",
      "metadata": {
        "id": "NyRDCkl1WN55",
        "colab_type": "code",
        "colab": {
          "base_uri": "https://localhost:8080/",
          "height": 1000
        },
        "outputId": "bb325f14-f12c-4d9f-ef9d-28084d2267c0"
      },
      "source": [
        "model.fit(x=X_train,y=y_train,verbose=1,epochs=100,batch_size=128)"
      ],
      "execution_count": 197,
      "outputs": [
        {
          "output_type": "stream",
          "text": [
            "Epoch 1/100\n",
            "79/79 [==============================] - 0s 3ms/step - loss: 0.6254 - accuracy: 0.8071\n",
            "Epoch 2/100\n",
            "79/79 [==============================] - 0s 3ms/step - loss: 0.2677 - accuracy: 0.9187\n",
            "Epoch 3/100\n",
            "79/79 [==============================] - 0s 2ms/step - loss: 0.2038 - accuracy: 0.9377\n",
            "Epoch 4/100\n",
            "79/79 [==============================] - 0s 3ms/step - loss: 0.1555 - accuracy: 0.9517\n",
            "Epoch 5/100\n",
            "79/79 [==============================] - 0s 3ms/step - loss: 0.1180 - accuracy: 0.9639\n",
            "Epoch 6/100\n",
            "79/79 [==============================] - 0s 3ms/step - loss: 0.1016 - accuracy: 0.9670\n",
            "Epoch 7/100\n",
            "79/79 [==============================] - 0s 3ms/step - loss: 0.0904 - accuracy: 0.9696\n",
            "Epoch 8/100\n",
            "79/79 [==============================] - 0s 2ms/step - loss: 0.0730 - accuracy: 0.9757\n",
            "Epoch 9/100\n",
            "79/79 [==============================] - 0s 3ms/step - loss: 0.0686 - accuracy: 0.9762\n",
            "Epoch 10/100\n",
            "79/79 [==============================] - 0s 3ms/step - loss: 0.0584 - accuracy: 0.9808\n",
            "Epoch 11/100\n",
            "79/79 [==============================] - 0s 3ms/step - loss: 0.0557 - accuracy: 0.9816\n",
            "Epoch 12/100\n",
            "79/79 [==============================] - 0s 2ms/step - loss: 0.0553 - accuracy: 0.9799\n",
            "Epoch 13/100\n",
            "79/79 [==============================] - 0s 2ms/step - loss: 0.0472 - accuracy: 0.9834\n",
            "Epoch 14/100\n",
            "79/79 [==============================] - 0s 2ms/step - loss: 0.0385 - accuracy: 0.9864\n",
            "Epoch 15/100\n",
            "79/79 [==============================] - 0s 2ms/step - loss: 0.0471 - accuracy: 0.9843\n",
            "Epoch 16/100\n",
            "79/79 [==============================] - 0s 3ms/step - loss: 0.0383 - accuracy: 0.9871\n",
            "Epoch 17/100\n",
            "79/79 [==============================] - 0s 2ms/step - loss: 0.0417 - accuracy: 0.9855\n",
            "Epoch 18/100\n",
            "79/79 [==============================] - 0s 2ms/step - loss: 0.0378 - accuracy: 0.9877\n",
            "Epoch 19/100\n",
            "79/79 [==============================] - 0s 2ms/step - loss: 0.0328 - accuracy: 0.9890\n",
            "Epoch 20/100\n",
            "79/79 [==============================] - 0s 2ms/step - loss: 0.0402 - accuracy: 0.9862\n",
            "Epoch 21/100\n",
            "79/79 [==============================] - 0s 3ms/step - loss: 0.0260 - accuracy: 0.9920\n",
            "Epoch 22/100\n",
            "79/79 [==============================] - 0s 2ms/step - loss: 0.0302 - accuracy: 0.9898\n",
            "Epoch 23/100\n",
            "79/79 [==============================] - 0s 3ms/step - loss: 0.0256 - accuracy: 0.9916\n",
            "Epoch 24/100\n",
            "79/79 [==============================] - 0s 3ms/step - loss: 0.0298 - accuracy: 0.9884\n",
            "Epoch 25/100\n",
            "79/79 [==============================] - 0s 3ms/step - loss: 0.1003 - accuracy: 0.9717\n",
            "Epoch 26/100\n",
            "79/79 [==============================] - 0s 3ms/step - loss: 0.0320 - accuracy: 0.9898\n",
            "Epoch 27/100\n",
            "79/79 [==============================] - 0s 2ms/step - loss: 0.0372 - accuracy: 0.9890\n",
            "Epoch 28/100\n",
            "79/79 [==============================] - 0s 2ms/step - loss: 0.0307 - accuracy: 0.9893\n",
            "Epoch 29/100\n",
            "79/79 [==============================] - 0s 2ms/step - loss: 0.0268 - accuracy: 0.9919\n",
            "Epoch 30/100\n",
            "79/79 [==============================] - 0s 3ms/step - loss: 0.0297 - accuracy: 0.9901\n",
            "Epoch 31/100\n",
            "79/79 [==============================] - 0s 3ms/step - loss: 0.0182 - accuracy: 0.9946\n",
            "Epoch 32/100\n",
            "79/79 [==============================] - 0s 2ms/step - loss: 0.0243 - accuracy: 0.9909\n",
            "Epoch 33/100\n",
            "79/79 [==============================] - 0s 2ms/step - loss: 0.0286 - accuracy: 0.9915\n",
            "Epoch 34/100\n",
            "79/79 [==============================] - 0s 2ms/step - loss: 0.0165 - accuracy: 0.9935\n",
            "Epoch 35/100\n",
            "79/79 [==============================] - 0s 2ms/step - loss: 0.0170 - accuracy: 0.9937\n",
            "Epoch 36/100\n",
            "79/79 [==============================] - 0s 3ms/step - loss: 0.0226 - accuracy: 0.9931\n",
            "Epoch 37/100\n",
            "79/79 [==============================] - 0s 2ms/step - loss: 0.0197 - accuracy: 0.9935\n",
            "Epoch 38/100\n",
            "79/79 [==============================] - 0s 2ms/step - loss: 0.0180 - accuracy: 0.9937\n",
            "Epoch 39/100\n",
            "79/79 [==============================] - 0s 2ms/step - loss: 0.0175 - accuracy: 0.9941\n",
            "Epoch 40/100\n",
            "79/79 [==============================] - 0s 3ms/step - loss: 0.0135 - accuracy: 0.9954\n",
            "Epoch 41/100\n",
            "79/79 [==============================] - 0s 3ms/step - loss: 0.0132 - accuracy: 0.9956\n",
            "Epoch 42/100\n",
            "79/79 [==============================] - 0s 2ms/step - loss: 0.0135 - accuracy: 0.9957\n",
            "Epoch 43/100\n",
            "79/79 [==============================] - 0s 2ms/step - loss: 0.0329 - accuracy: 0.9896\n",
            "Epoch 44/100\n",
            "79/79 [==============================] - 0s 2ms/step - loss: 0.0264 - accuracy: 0.9915\n",
            "Epoch 45/100\n",
            "79/79 [==============================] - 0s 2ms/step - loss: 0.0262 - accuracy: 0.9921\n",
            "Epoch 46/100\n",
            "79/79 [==============================] - 0s 3ms/step - loss: 0.0556 - accuracy: 0.9836\n",
            "Epoch 47/100\n",
            "79/79 [==============================] - 0s 3ms/step - loss: 0.0326 - accuracy: 0.9902\n",
            "Epoch 48/100\n",
            "79/79 [==============================] - 0s 3ms/step - loss: 0.0271 - accuracy: 0.9919\n",
            "Epoch 49/100\n",
            "79/79 [==============================] - 0s 3ms/step - loss: 0.0189 - accuracy: 0.9939\n",
            "Epoch 50/100\n",
            "79/79 [==============================] - 0s 3ms/step - loss: 0.0434 - accuracy: 0.9871\n",
            "Epoch 51/100\n",
            "79/79 [==============================] - 0s 3ms/step - loss: 0.0235 - accuracy: 0.9926\n",
            "Epoch 52/100\n",
            "79/79 [==============================] - 0s 3ms/step - loss: 0.0266 - accuracy: 0.9918\n",
            "Epoch 53/100\n",
            "79/79 [==============================] - 0s 3ms/step - loss: 0.0357 - accuracy: 0.9896\n",
            "Epoch 54/100\n",
            "79/79 [==============================] - 0s 3ms/step - loss: 0.0150 - accuracy: 0.9945\n",
            "Epoch 55/100\n",
            "79/79 [==============================] - 0s 3ms/step - loss: 0.0161 - accuracy: 0.9946\n",
            "Epoch 56/100\n",
            "79/79 [==============================] - 0s 3ms/step - loss: 0.0207 - accuracy: 0.9941\n",
            "Epoch 57/100\n",
            "79/79 [==============================] - 0s 3ms/step - loss: 0.0163 - accuracy: 0.9953\n",
            "Epoch 58/100\n",
            "79/79 [==============================] - 0s 3ms/step - loss: 0.0137 - accuracy: 0.9955\n",
            "Epoch 59/100\n",
            "79/79 [==============================] - 0s 3ms/step - loss: 0.0120 - accuracy: 0.9958\n",
            "Epoch 60/100\n",
            "79/79 [==============================] - 0s 3ms/step - loss: 0.0104 - accuracy: 0.9958\n",
            "Epoch 61/100\n",
            "79/79 [==============================] - 0s 2ms/step - loss: 0.0197 - accuracy: 0.9939\n",
            "Epoch 62/100\n",
            "79/79 [==============================] - 0s 2ms/step - loss: 0.0132 - accuracy: 0.9952\n",
            "Epoch 63/100\n",
            "79/79 [==============================] - 0s 3ms/step - loss: 0.0203 - accuracy: 0.9939\n",
            "Epoch 64/100\n",
            "79/79 [==============================] - 0s 3ms/step - loss: 0.0184 - accuracy: 0.9937\n",
            "Epoch 65/100\n",
            "79/79 [==============================] - 0s 2ms/step - loss: 0.0582 - accuracy: 0.9852\n",
            "Epoch 66/100\n",
            "79/79 [==============================] - 0s 2ms/step - loss: 0.0447 - accuracy: 0.9883\n",
            "Epoch 67/100\n",
            "79/79 [==============================] - 0s 2ms/step - loss: 0.0173 - accuracy: 0.9943\n",
            "Epoch 68/100\n",
            "79/79 [==============================] - 0s 2ms/step - loss: 0.0081 - accuracy: 0.9972\n",
            "Epoch 69/100\n",
            "79/79 [==============================] - 0s 3ms/step - loss: 0.0125 - accuracy: 0.9953\n",
            "Epoch 70/100\n",
            "79/79 [==============================] - 0s 2ms/step - loss: 0.0149 - accuracy: 0.9963\n",
            "Epoch 71/100\n",
            "79/79 [==============================] - 0s 2ms/step - loss: 0.0149 - accuracy: 0.9958\n",
            "Epoch 72/100\n",
            "79/79 [==============================] - 0s 2ms/step - loss: 0.0122 - accuracy: 0.9961\n",
            "Epoch 73/100\n",
            "79/79 [==============================] - 0s 2ms/step - loss: 0.0253 - accuracy: 0.9929\n",
            "Epoch 74/100\n",
            "79/79 [==============================] - 0s 3ms/step - loss: 0.0150 - accuracy: 0.9956\n",
            "Epoch 75/100\n",
            "79/79 [==============================] - 0s 2ms/step - loss: 0.0164 - accuracy: 0.9951\n",
            "Epoch 76/100\n",
            "79/79 [==============================] - 0s 2ms/step - loss: 0.0258 - accuracy: 0.9928\n",
            "Epoch 77/100\n",
            "79/79 [==============================] - 0s 2ms/step - loss: 0.0207 - accuracy: 0.9936\n",
            "Epoch 78/100\n",
            "79/79 [==============================] - 0s 2ms/step - loss: 0.0159 - accuracy: 0.9952\n",
            "Epoch 79/100\n",
            "79/79 [==============================] - 0s 3ms/step - loss: 0.0205 - accuracy: 0.9941\n",
            "Epoch 80/100\n",
            "79/79 [==============================] - 0s 3ms/step - loss: 0.0135 - accuracy: 0.9960\n",
            "Epoch 81/100\n",
            "79/79 [==============================] - 0s 2ms/step - loss: 0.0148 - accuracy: 0.9952\n",
            "Epoch 82/100\n",
            "79/79 [==============================] - 0s 2ms/step - loss: 0.0112 - accuracy: 0.9953\n",
            "Epoch 83/100\n",
            "79/79 [==============================] - 0s 2ms/step - loss: 0.0133 - accuracy: 0.9963\n",
            "Epoch 84/100\n",
            "79/79 [==============================] - 0s 3ms/step - loss: 0.0130 - accuracy: 0.9963\n",
            "Epoch 85/100\n",
            "79/79 [==============================] - 0s 3ms/step - loss: 0.0202 - accuracy: 0.9946\n",
            "Epoch 86/100\n",
            "79/79 [==============================] - 0s 3ms/step - loss: 0.0188 - accuracy: 0.9945\n",
            "Epoch 87/100\n",
            "79/79 [==============================] - 0s 3ms/step - loss: 0.0212 - accuracy: 0.9937\n",
            "Epoch 88/100\n",
            "79/79 [==============================] - 0s 3ms/step - loss: 0.0181 - accuracy: 0.9944\n",
            "Epoch 89/100\n",
            "79/79 [==============================] - 0s 3ms/step - loss: 0.0183 - accuracy: 0.9950\n",
            "Epoch 90/100\n",
            "79/79 [==============================] - 0s 3ms/step - loss: 0.0119 - accuracy: 0.9961\n",
            "Epoch 91/100\n",
            "79/79 [==============================] - 0s 3ms/step - loss: 0.0163 - accuracy: 0.9958\n",
            "Epoch 92/100\n",
            "79/79 [==============================] - 0s 3ms/step - loss: 0.0127 - accuracy: 0.9955\n",
            "Epoch 93/100\n",
            "79/79 [==============================] - 0s 3ms/step - loss: 0.0143 - accuracy: 0.9957\n",
            "Epoch 94/100\n",
            "79/79 [==============================] - 0s 3ms/step - loss: 0.0131 - accuracy: 0.9960\n",
            "Epoch 95/100\n",
            "79/79 [==============================] - 0s 3ms/step - loss: 0.0190 - accuracy: 0.9946\n",
            "Epoch 96/100\n",
            "79/79 [==============================] - 0s 3ms/step - loss: 0.0336 - accuracy: 0.9913\n",
            "Epoch 97/100\n",
            "79/79 [==============================] - 0s 3ms/step - loss: 0.0183 - accuracy: 0.9947\n",
            "Epoch 98/100\n",
            "79/79 [==============================] - 0s 3ms/step - loss: 0.0167 - accuracy: 0.9963\n",
            "Epoch 99/100\n",
            "79/79 [==============================] - 0s 3ms/step - loss: 0.0112 - accuracy: 0.9972\n",
            "Epoch 100/100\n",
            "79/79 [==============================] - 0s 3ms/step - loss: 0.0278 - accuracy: 0.9922\n"
          ],
          "name": "stdout"
        },
        {
          "output_type": "execute_result",
          "data": {
            "text/plain": [
              "<tensorflow.python.keras.callbacks.History at 0x7fd1dcfb0128>"
            ]
          },
          "metadata": {
            "tags": []
          },
          "execution_count": 197
        }
      ]
    },
    {
      "cell_type": "code",
      "metadata": {
        "id": "RMbJODmkbhhm",
        "colab_type": "code",
        "colab": {}
      },
      "source": [
        "#load Training data into a datalist\n",
        "data_file = open(\"//content/gdrive/My Drive/MNIST/mnist_test.csv\",'r')\n",
        "data_list = data_file.readlines()\n",
        "data_file.close()"
      ],
      "execution_count": 198,
      "outputs": []
    },
    {
      "cell_type": "code",
      "metadata": {
        "id": "n-rWSI1dboeg",
        "colab_type": "code",
        "colab": {}
      },
      "source": [
        "#Load data and labels into X_test and y_test respectively\n",
        "X_test = []\n",
        "y_test = []\n",
        "for rows in data_list:\n",
        "  X_test.append(np.asfarray(rows.split(',')[1:]))\n",
        "  y_test.append(int(rows.split(',')[0]))\n",
        "X_test = np.array(X_test)/255.0 + 0.01 #scaling test data\n",
        "y_test = np.array(y_test)"
      ],
      "execution_count": 199,
      "outputs": []
    },
    {
      "cell_type": "code",
      "metadata": {
        "id": "kSoiJ2NSb7TJ",
        "colab_type": "code",
        "colab": {
          "base_uri": "https://localhost:8080/",
          "height": 54
        },
        "outputId": "793cdbc6-002b-4568-db3e-eb0d0dbb4049"
      },
      "source": [
        "#Evaluate the trained model on test data\n",
        "model.evaluate(X_test,y_test)"
      ],
      "execution_count": 200,
      "outputs": [
        {
          "output_type": "stream",
          "text": [
            "313/313 [==============================] - 1s 2ms/step - loss: 0.0057 - accuracy: 0.9987\n"
          ],
          "name": "stdout"
        },
        {
          "output_type": "execute_result",
          "data": {
            "text/plain": [
              "[0.005664172116667032, 0.9987000226974487]"
            ]
          },
          "metadata": {
            "tags": []
          },
          "execution_count": 200
        }
      ]
    },
    {
      "cell_type": "code",
      "metadata": {
        "id": "t3NqAgvbeONQ",
        "colab_type": "code",
        "colab": {
          "base_uri": "https://localhost:8080/",
          "height": 1000
        },
        "outputId": "ddea6e73-0cac-452c-ecc9-d6f662fce515"
      },
      "source": [
        "#Check a couple of images and their corresponding labels.\n",
        "plt.pyplot.imshow(X_test[18].reshape([28,28]),cmap='Greys',interpolation='None')\n",
        "print(X_test[1458])"
      ],
      "execution_count": 229,
      "outputs": [
        {
          "output_type": "stream",
          "text": [
            "[0.01       0.01       0.01       0.01       0.01       0.01\n",
            " 0.01       0.01       0.01       0.01       0.01       0.01\n",
            " 0.01       0.01       0.01       0.01       0.01       0.01\n",
            " 0.01       0.01       0.01       0.01       0.01       0.01\n",
            " 0.01       0.01       0.01       0.01       0.01       0.01\n",
            " 0.01       0.01       0.01       0.01       0.01       0.01\n",
            " 0.01       0.01       0.01       0.01       0.01       0.01\n",
            " 0.01       0.01       0.01       0.01       0.01       0.01\n",
            " 0.01       0.01       0.01       0.01       0.01       0.01\n",
            " 0.01       0.01       0.01       0.01       0.01       0.01\n",
            " 0.01       0.01       0.01       0.01       0.01       0.01\n",
            " 0.01       0.01       0.01       0.01       0.01       0.01\n",
            " 0.01       0.01       0.01       0.01       0.01       0.01\n",
            " 0.01       0.01       0.01       0.01       0.01       0.01\n",
            " 0.01       0.01       0.01       0.01       0.01       0.01\n",
            " 0.01       0.01       0.01       0.01       0.01       0.01\n",
            " 0.01       0.01       0.01       0.01       0.27666667 0.4727451\n",
            " 0.98647059 0.83745098 0.10803922 0.01       0.01       0.01\n",
            " 0.01       0.01       0.01       0.01       0.01       0.01\n",
            " 0.01       0.01       0.01       0.01       0.01       0.01\n",
            " 0.01       0.01       0.01       0.01       0.01       0.32372549\n",
            " 0.78647059 0.93156863 0.97470588 1.00607843 1.00607843 1.00607843\n",
            " 0.22568627 0.01       0.01       0.01       0.01       0.01\n",
            " 0.01       0.01       0.01       0.01       0.01       0.01\n",
            " 0.01       0.01       0.01       0.01       0.01       0.01\n",
            " 0.01       0.37862745 0.84921569 0.97862745 1.00607843 1.00607843\n",
            " 1.00607843 1.00607843 1.00607843 0.91196078 0.15901961 0.01\n",
            " 0.01       0.01       0.01       0.01       0.01       0.01\n",
            " 0.01       0.01       0.01       0.01       0.01       0.01\n",
            " 0.01       0.01       0.01       0.14333333 0.50803922 0.8727451\n",
            " 1.00607843 1.00607843 1.00607843 0.86490196 0.79039216 0.89627451\n",
            " 0.91980392 0.24529412 0.01       0.01       0.01       0.01\n",
            " 0.01       0.01       0.01       0.01       0.01       0.01\n",
            " 0.01       0.01       0.01       0.01       0.01       0.01\n",
            " 0.17862745 0.88058824 1.00607843 1.00607843 1.00607843 0.89627451\n",
            " 0.47666667 0.12372549 0.01       0.43352941 0.22960784 0.01\n",
            " 0.01       0.01       0.01       0.01       0.01       0.01\n",
            " 0.01       0.01       0.01       0.01       0.01       0.01\n",
            " 0.01       0.01       0.02960784 0.18254902 0.88058824 1.00607843\n",
            " 1.00607843 0.95509804 0.46882353 0.0845098  0.01       0.01\n",
            " 0.01       0.01       0.01       0.01       0.01       0.01\n",
            " 0.01       0.01       0.01       0.01       0.01       0.01\n",
            " 0.01       0.01       0.01       0.01       0.01       0.01\n",
            " 0.31196078 1.00607843 1.00607843 1.00607843 0.74333333 0.02176471\n",
            " 0.01       0.01       0.01       0.01       0.01       0.01\n",
            " 0.01       0.01       0.01       0.01       0.01       0.01\n",
            " 0.01       0.01       0.01       0.01       0.01       0.01\n",
            " 0.01       0.01       0.01       0.01       0.31196078 1.00607843\n",
            " 1.00607843 0.71980392 0.02176471 0.01       0.01       0.01\n",
            " 0.01       0.01       0.01       0.01       0.01       0.01\n",
            " 0.01       0.01       0.01       0.01       0.01       0.01\n",
            " 0.01       0.01       0.01       0.01       0.01       0.01\n",
            " 0.01       0.01       0.79431373 1.00607843 0.69235294 0.05313725\n",
            " 0.01       0.01       0.01       0.01       0.01       0.01\n",
            " 0.01       0.01       0.01       0.01       0.01       0.01\n",
            " 0.01       0.01       0.01       0.01       0.01       0.01\n",
            " 0.01       0.01       0.01       0.01       0.01       0.01\n",
            " 0.84921569 1.00607843 0.33156863 0.01       0.01       0.01\n",
            " 0.01       0.01       0.01       0.01       0.01       0.01\n",
            " 0.01       0.24921569 0.21784314 0.01       0.01       0.01\n",
            " 0.01       0.01       0.01       0.01       0.01       0.01\n",
            " 0.01       0.01       0.01       0.01       0.84921569 1.00607843\n",
            " 0.33156863 0.01       0.01       0.01       0.01       0.01\n",
            " 0.01       0.01       0.01784314 0.20215686 0.71588235 0.97470588\n",
            " 0.94333333 0.22568627 0.01       0.01       0.01       0.01\n",
            " 0.01       0.01       0.01       0.01       0.01       0.01\n",
            " 0.01       0.21784314 0.9354902  1.00607843 0.33156863 0.01\n",
            " 0.01       0.01       0.01       0.01       0.01       0.02568627\n",
            " 0.44137255 1.00607843 1.00607843 1.00607843 1.00607843 0.6727451\n",
            " 0.05313725 0.01       0.01       0.01       0.01       0.01\n",
            " 0.01       0.01       0.01       0.01       0.01       0.01\n",
            " 0.83745098 1.00607843 0.3472549  0.01       0.01       0.01\n",
            " 0.01       0.01       0.11980392 0.62568627 1.00607843 1.00607843\n",
            " 0.99823529 0.80215686 0.88843137 1.00607843 0.38647059 0.01\n",
            " 0.01       0.01       0.01       0.01       0.01       0.01\n",
            " 0.01       0.01       0.01       0.01       0.31196078 1.00607843\n",
            " 0.8727451  0.01       0.01       0.01       0.01       0.01\n",
            " 0.20215686 1.00607843 1.00607843 1.00607843 0.33941176 0.01\n",
            " 0.79431373 1.00607843 0.38647059 0.01       0.01       0.01\n",
            " 0.01       0.01       0.01       0.01       0.01       0.01\n",
            " 0.01       0.01       0.31196078 1.00607843 1.00215686 0.61392157\n",
            " 0.01       0.01       0.01       0.01       0.71588235 1.00607843\n",
            " 1.00607843 0.74333333 0.9354902  0.95901961 0.99823529 1.00607843\n",
            " 0.38647059 0.01       0.01       0.01       0.01       0.01\n",
            " 0.01       0.01       0.01       0.01       0.01       0.01\n",
            " 0.04921569 0.62176471 1.00607843 0.97078431 0.33941176 0.19431373\n",
            " 0.01       0.01       0.2727451  1.01       1.00607843 1.00607843\n",
            " 1.00607843 1.00607843 1.00607843 0.86490196 0.06098039 0.01\n",
            " 0.01       0.01       0.01       0.01       0.01       0.01\n",
            " 0.01       0.01       0.01       0.01       0.01       0.17470588\n",
            " 0.93156863 1.00607843 1.00607843 0.91588235 0.31196078 0.25705882\n",
            " 0.40215686 1.00607843 1.00607843 1.00607843 1.00607843 1.00607843\n",
            " 1.00607843 0.71196078 0.01       0.01       0.01       0.01\n",
            " 0.01       0.01       0.01       0.01       0.01       0.01\n",
            " 0.01       0.01       0.01       0.01       0.2845098  0.94333333\n",
            " 1.00607843 1.00607843 1.00607843 1.00607843 1.00607843 1.00607843\n",
            " 1.00607843 1.00607843 1.00607843 1.00607843 0.88058824 0.25705882\n",
            " 0.01       0.01       0.01       0.01       0.01       0.01\n",
            " 0.01       0.01       0.01       0.01       0.01       0.01\n",
            " 0.01       0.01       0.01       0.26490196 0.92764706 0.92764706\n",
            " 0.99823529 1.00607843 1.00607843 1.00607843 1.00607843 0.96686275\n",
            " 0.92764706 0.45705882 0.09235294 0.01       0.01       0.01\n",
            " 0.01       0.01       0.01       0.01       0.01       0.01\n",
            " 0.01       0.01       0.01       0.01       0.01       0.01\n",
            " 0.01       0.01       0.01       0.01       0.42176471 0.46882353\n",
            " 0.46882353 0.81784314 0.69627451 0.24529412 0.01       0.01\n",
            " 0.01       0.01       0.01       0.01       0.01       0.01\n",
            " 0.01       0.01       0.01       0.01       0.01       0.01\n",
            " 0.01       0.01       0.01       0.01       0.01       0.01\n",
            " 0.01       0.01       0.01       0.01       0.01       0.01\n",
            " 0.01       0.01       0.01       0.01       0.01       0.01\n",
            " 0.01       0.01       0.01       0.01       0.01       0.01\n",
            " 0.01       0.01       0.01       0.01       0.01       0.01\n",
            " 0.01       0.01       0.01       0.01       0.01       0.01\n",
            " 0.01       0.01       0.01       0.01       0.01       0.01\n",
            " 0.01       0.01       0.01       0.01       0.01       0.01\n",
            " 0.01       0.01       0.01       0.01       0.01       0.01\n",
            " 0.01       0.01       0.01       0.01       0.01       0.01\n",
            " 0.01       0.01       0.01       0.01       0.01       0.01\n",
            " 0.01       0.01       0.01       0.01       0.01       0.01\n",
            " 0.01       0.01       0.01       0.01       0.01       0.01\n",
            " 0.01       0.01       0.01       0.01       0.01       0.01\n",
            " 0.01       0.01       0.01       0.01       0.01       0.01\n",
            " 0.01       0.01       0.01       0.01       0.01       0.01\n",
            " 0.01       0.01       0.01       0.01       0.01       0.01\n",
            " 0.01       0.01       0.01       0.01       0.01       0.01\n",
            " 0.01       0.01       0.01       0.01       0.01       0.01\n",
            " 0.01       0.01       0.01       0.01       0.01       0.01\n",
            " 0.01       0.01       0.01       0.01       0.01       0.01\n",
            " 0.01       0.01       0.01       0.01       0.01       0.01\n",
            " 0.01       0.01       0.01       0.01      ]\n"
          ],
          "name": "stdout"
        },
        {
          "output_type": "display_data",
          "data": {
            "image/png": "[encoded data removed]",
            "text/plain": [
              "<Figure size 432x288 with 1 Axes>"
            ]
          },
          "metadata": {
            "tags": [],
            "needs_background": "light"
          }
        }
      ]
    },
    {
      "cell_type": "code",
      "metadata": {
        "id": "R3EpO08XefrI",
        "colab_type": "code",
        "colab": {
          "base_uri": "https://localhost:8080/",
          "height": 36
        },
        "outputId": "64a9f07f-ecf9-44c4-fde2-9c31209c821d"
      },
      "source": [
        "pred_image = np.expand_dims(X_test[18], axis=0)\n",
        "np.argmax(model.predict(pred_image))"
      ],
      "execution_count": 228,
      "outputs": [
        {
          "output_type": "execute_result",
          "data": {
            "text/plain": [
              "3"
            ]
          },
          "metadata": {
            "tags": []
          },
          "execution_count": 228
        }
      ]
    },
    {
      "cell_type": "code",
      "metadata": {
        "id": "QPhMXdwi4bPP",
        "colab_type": "code",
        "colab": {
          "base_uri": "https://localhost:8080/",
          "height": 36
        },
        "outputId": "a73b1e99-9b88-4dae-d610-ff7b7c7812f0"
      },
      "source": [
        "pip install pillow"
      ],
      "execution_count": 188,
      "outputs": [
        {
          "output_type": "stream",
          "text": [
            "Requirement already satisfied: pillow in /usr/local/lib/python3.6/dist-packages (7.0.0)\n"
          ],
          "name": "stdout"
        }
      ]
    },
    {
      "cell_type": "code",
      "metadata": {
        "id": "-yXTepUV5z2T",
        "colab_type": "code",
        "colab": {
          "base_uri": "https://localhost:8080/",
          "height": 284
        },
        "outputId": "7e1b4273-ae0c-4d8f-eccc-e2ce3b806c24"
      },
      "source": [
        "img = Image.open(\"//content/gdrive/My Drive/MNIST/six_1.jpg\")\n",
        "img = img.convert(\"L\")\n",
        "img = np.array(img.resize((28,28)))\n",
        "img = ((255.0 - img.reshape(784))/255.0 * 0.99 ) + 0.01\n",
        "plt.pyplot.imshow(img.reshape((28,28)),cmap='Greys',interpolation='None')\n",
        "#print(img)"
      ],
      "execution_count": 242,
      "outputs": [
        {
          "output_type": "execute_result",
          "data": {
            "text/plain": [
              "<matplotlib.image.AxesImage at 0x7fd1daca65f8>"
            ]
          },
          "metadata": {
            "tags": []
          },
          "execution_count": 242
        },
        {
          "output_type": "display_data",
          "data": {
            "image/png": "[encoded data removed]",
            "text/plain": [
              "<Figure size 432x288 with 1 Axes>"
            ]
          },
          "metadata": {
            "tags": [],
            "needs_background": "light"
          }
        }
      ]
    },
    {
      "cell_type": "code",
      "metadata": {
        "id": "K0dpZxPKjfNp",
        "colab_type": "code",
        "colab": {
          "base_uri": "https://localhost:8080/",
          "height": 36
        },
        "outputId": "e532c905-4c35-449b-db83-2e9c97d78e5a"
      },
      "source": [
        "pred_image = np.expand_dims(img, axis=0)\n",
        "np.argmax(model.predict(pred_image))\n",
        "#model.predict(pred_image)"
      ],
      "execution_count": 244,
      "outputs": [
        {
          "output_type": "execute_result",
          "data": {
            "text/plain": [
              "5"
            ]
          },
          "metadata": {
            "tags": []
          },
          "execution_count": 244
        }
      ]
    }
  ]
}