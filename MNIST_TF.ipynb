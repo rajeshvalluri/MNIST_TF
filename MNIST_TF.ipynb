{
  "nbformat": 4,
  "nbformat_minor": 0,
  "metadata": {
    "colab": {
      "name": "MNIST_TF.ipynb",
      "provenance": [],
      "collapsed_sections": [],
      "authorship_tag": "ABX9TyMAJSkcz+pCogEE8ewGYXtz",
      "include_colab_link": true
    },
    "kernelspec": {
      "name": "python3",
      "display_name": "Python 3"
    },
    "accelerator": "GPU"
  },
  "cells": [
    {
      "cell_type": "markdown",
      "metadata": {
        "id": "view-in-github",
        "colab_type": "text"
      },
      "source": [
        "<a href=\"https://colab.research.google.com/github/rajeshvalluri/MNIST_TF/blob/master/MNIST_TF.ipynb\" target=\"_parent\"><img src=\"https://colab.research.google.com/assets/colab-badge.svg\" alt=\"Open In Colab\"/></a>"
      ]
    },
    {
      "cell_type": "code",
      "metadata": {
        "id": "YciVxHrloD1e",
        "colab_type": "code",
        "colab": {
          "base_uri": "https://localhost:8080/",
          "height": 35
        },
        "outputId": "eae2f84c-2709-4d6e-e431-93e20dc6c4c0"
      },
      "source": [
        "#modifications 21-09-202\n",
        "import tensorflow as tf\n",
        "print(tf.__version__)"
      ],
      "execution_count": 1,
      "outputs": [
        {
          "output_type": "stream",
          "text": [
            "2.3.0\n"
          ],
          "name": "stdout"
        }
      ]
    },
    {
      "cell_type": "code",
      "metadata": {
        "id": "nkO7AGFAPJv3",
        "colab_type": "code",
        "colab": {
          "base_uri": "https://localhost:8080/",
          "height": 35
        },
        "outputId": "5375d617-28eb-45b5-c2e9-3ead42b3c2ee"
      },
      "source": [
        "!nvidia-smi -L"
      ],
      "execution_count": 2,
      "outputs": [
        {
          "output_type": "stream",
          "text": [
            "GPU 0: Tesla T4 (UUID: GPU-df75fd59-5d48-944c-6b37-bbd3f9be5f05)\n"
          ],
          "name": "stdout"
        }
      ]
    },
    {
      "cell_type": "code",
      "metadata": {
        "id": "I_mAYEs0i7kj",
        "colab_type": "code",
        "colab": {}
      },
      "source": [
        "import tensorflow.keras\n",
        "from keras.models import Sequential\n",
        "from keras.layers import Dense, Conv2D, Dropout, MaxPool2D, Flatten\n",
        "import numpy as np\n",
        "import pandas as pd\n",
        "import matplotlib as plt\n",
        "from scipy import *\n",
        "from PIL import Image, ImageOps\n",
        "%matplotlib inline\n"
      ],
      "execution_count": 3,
      "outputs": []
    },
    {
      "cell_type": "code",
      "metadata": {
        "id": "4HusvV4DoPCO",
        "colab_type": "code",
        "colab": {
          "base_uri": "https://localhost:8080/",
          "height": 35
        },
        "outputId": "2e3d2ad5-0161-4918-870d-2d264333f5dd"
      },
      "source": [
        "#Load the MNIST files from Google Drive\n",
        "from google.colab import drive\n",
        "drive.mount(\"/content/gdrive\")"
      ],
      "execution_count": 4,
      "outputs": [
        {
          "output_type": "stream",
          "text": [
            "Mounted at /content/gdrive\n"
          ],
          "name": "stdout"
        }
      ]
    },
    {
      "cell_type": "code",
      "metadata": {
        "id": "q31bTsF8pT3a",
        "colab_type": "code",
        "colab": {}
      },
      "source": [
        "#load Training data into a datalist\n",
        "data_file = open(\"//content/gdrive/My Drive/MNIST/mnist_train.csv\",'r')\n",
        "data_list = data_file.readlines()\n",
        "data_file.close()"
      ],
      "execution_count": 25,
      "outputs": []
    },
    {
      "cell_type": "code",
      "metadata": {
        "id": "t-XvvHleUaPO",
        "colab_type": "code",
        "colab": {}
      },
      "source": [
        "input_shape = 784"
      ],
      "execution_count": 6,
      "outputs": []
    },
    {
      "cell_type": "code",
      "metadata": {
        "id": "66lTSUaPs88Y",
        "colab_type": "code",
        "colab": {}
      },
      "source": [
        "#Load data and labels into X_train and y_train respectively\n",
        "X_train = []\n",
        "y_train = []\n",
        "for rows in data_list:\n",
        "  tmp_row = np.asfarray(rows.split(',')[1:])\n",
        "  tmp_row[tmp_row < 20.0] = 0.0\n",
        "  X_train.append(tmp_row.reshape([28,28]))\n",
        "  y_train.append(int(rows.split(',')[0]))"
      ],
      "execution_count": 27,
      "outputs": []
    },
    {
      "cell_type": "code",
      "metadata": {
        "id": "w0tUFBNaevar",
        "colab_type": "code",
        "colab": {
          "base_uri": "https://localhost:8080/",
          "height": 283
        },
        "outputId": "8423ea92-6088-452b-a450-1b9e8f8afc73"
      },
      "source": [
        "#print(X_train[0])\n",
        "plt.pyplot.imshow(X_train[0],cmap='Greys',interpolation='None')"
      ],
      "execution_count": 28,
      "outputs": [
        {
          "output_type": "execute_result",
          "data": {
            "text/plain": [
              "<matplotlib.image.AxesImage at 0x7f070c8897f0>"
            ]
          },
          "metadata": {
            "tags": []
          },
          "execution_count": 28
        },
        {
          "output_type": "display_data",
          "data": {
            "image/png": "[encoded data removed]",
            "text/plain": [
              "<Figure size 432x288 with 1 Axes>"
            ]
          },
          "metadata": {
            "tags": [],
            "needs_background": "light"
          }
        }
      ]
    },
    {
      "cell_type": "code",
      "metadata": {
        "id": "EQ2w-tKKqcB-",
        "colab_type": "code",
        "colab": {
          "base_uri": "https://localhost:8080/",
          "height": 283
        },
        "outputId": "b48e3217-e430-4f5f-fc53-ab3a45d8e7f3"
      },
      "source": [
        "#Check a couple of images and their corresponding labels.\n",
        "X_train = np.array(X_train)/255.0 + 0.01#scaling input data to be between 0 and 1\n",
        "y_train = np.array(y_train)\n",
        "plt.pyplot.imshow(X_train[0],cmap='Greys',interpolation='None')"
      ],
      "execution_count": 29,
      "outputs": [
        {
          "output_type": "execute_result",
          "data": {
            "text/plain": [
              "<matplotlib.image.AxesImage at 0x7f06a9054cf8>"
            ]
          },
          "metadata": {
            "tags": []
          },
          "execution_count": 29
        },
        {
          "output_type": "display_data",
          "data": {
            "image/png": "[encoded data removed]",
            "text/plain": [
              "<Figure size 432x288 with 1 Axes>"
            ]
          },
          "metadata": {
            "tags": [],
            "needs_background": "light"
          }
        }
      ]
    },
    {
      "cell_type": "code",
      "metadata": {
        "id": "yyIW2hUOTKXP",
        "colab_type": "code",
        "colab": {
          "base_uri": "https://localhost:8080/",
          "height": 458
        },
        "outputId": "10562203-eef0-48e7-caff-29f2c72e14a3"
      },
      "source": [
        "model = Sequential()\n",
        "model.add(Conv2D(32,kernel_size=3,activation='relu',input_shape=(28,28,1) ,padding='same'))\n",
        "model.add(Conv2D(64,kernel_size=3,activation='relu'))\n",
        "model.add(Dropout(0.10))\n",
        "model.add(MaxPool2D(pool_size=(4,4),padding='same'))\n",
        "model.add(Flatten())\n",
        "model.add(Dense(units = 100,activation= 'relu'))\n",
        "model.add(Dropout(0.10))\n",
        "model.add(Dense(units=10,activation='softmax'))\n",
        "opt = tf.keras.optimizers.Adam()\n",
        "metrics = 'accuracy'\n",
        "loss = 'sparse_categorical_crossentropy'\n",
        "model.compile(optimizer=opt,loss=loss,metrics=[metrics])\n",
        "model.summary()"
      ],
      "execution_count": 135,
      "outputs": [
        {
          "output_type": "stream",
          "text": [
            "Model: \"sequential_7\"\n",
            "_________________________________________________________________\n",
            "Layer (type)                 Output Shape              Param #   \n",
            "=================================================================\n",
            "conv2d_21 (Conv2D)           (None, 28, 28, 32)        320       \n",
            "_________________________________________________________________\n",
            "conv2d_22 (Conv2D)           (None, 26, 26, 64)        18496     \n",
            "_________________________________________________________________\n",
            "dropout_15 (Dropout)         (None, 26, 26, 64)        0         \n",
            "_________________________________________________________________\n",
            "max_pooling2d_7 (MaxPooling2 (None, 7, 7, 64)          0         \n",
            "_________________________________________________________________\n",
            "flatten_7 (Flatten)          (None, 3136)              0         \n",
            "_________________________________________________________________\n",
            "dense_19 (Dense)             (None, 100)               313700    \n",
            "_________________________________________________________________\n",
            "dropout_16 (Dropout)         (None, 100)               0         \n",
            "_________________________________________________________________\n",
            "dense_20 (Dense)             (None, 10)                1010      \n",
            "=================================================================\n",
            "Total params: 333,526\n",
            "Trainable params: 333,526\n",
            "Non-trainable params: 0\n",
            "_________________________________________________________________\n"
          ],
          "name": "stdout"
        }
      ]
    },
    {
      "cell_type": "code",
      "metadata": {
        "id": "PVETIKgGdEvL",
        "colab_type": "code",
        "colab": {
          "base_uri": "https://localhost:8080/",
          "height": 35
        },
        "outputId": "1ab30521-acff-491e-89af-1652a7155e43"
      },
      "source": [
        "print(X_train.shape)"
      ],
      "execution_count": 133,
      "outputs": [
        {
          "output_type": "stream",
          "text": [
            "(60000, 28, 28)\n"
          ],
          "name": "stdout"
        }
      ]
    },
    {
      "cell_type": "code",
      "metadata": {
        "id": "NyRDCkl1WN55",
        "colab_type": "code",
        "colab": {
          "base_uri": "https://localhost:8080/",
          "height": 770
        },
        "outputId": "25bec463-1f41-40df-a2a0-de8441fa0d5f"
      },
      "source": [
        "model.fit(X_train[...,np.newaxis],y_train,verbose=1,epochs=20,batch_size=128)"
      ],
      "execution_count": 136,
      "outputs": [
        {
          "output_type": "stream",
          "text": [
            "Epoch 1/20\n",
            "469/469 [==============================] - 4s 8ms/step - loss: 0.2087 - accuracy: 0.9353\n",
            "Epoch 2/20\n",
            "469/469 [==============================] - 3s 7ms/step - loss: 0.0561 - accuracy: 0.9824\n",
            "Epoch 3/20\n",
            "469/469 [==============================] - 4s 8ms/step - loss: 0.0391 - accuracy: 0.9877\n",
            "Epoch 4/20\n",
            "469/469 [==============================] - 4s 8ms/step - loss: 0.0306 - accuracy: 0.9901\n",
            "Epoch 5/20\n",
            "469/469 [==============================] - 4s 8ms/step - loss: 0.0240 - accuracy: 0.9923\n",
            "Epoch 6/20\n",
            "469/469 [==============================] - 3s 7ms/step - loss: 0.0206 - accuracy: 0.9935\n",
            "Epoch 7/20\n",
            "469/469 [==============================] - 3s 7ms/step - loss: 0.0162 - accuracy: 0.9948\n",
            "Epoch 8/20\n",
            "469/469 [==============================] - 4s 8ms/step - loss: 0.0157 - accuracy: 0.9947\n",
            "Epoch 9/20\n",
            "469/469 [==============================] - 4s 8ms/step - loss: 0.0125 - accuracy: 0.9956\n",
            "Epoch 10/20\n",
            "469/469 [==============================] - 3s 7ms/step - loss: 0.0112 - accuracy: 0.9961\n",
            "Epoch 11/20\n",
            "469/469 [==============================] - 3s 7ms/step - loss: 0.0093 - accuracy: 0.9971\n",
            "Epoch 12/20\n",
            "469/469 [==============================] - 3s 7ms/step - loss: 0.0082 - accuracy: 0.9970\n",
            "Epoch 13/20\n",
            "469/469 [==============================] - 4s 7ms/step - loss: 0.0094 - accuracy: 0.9966\n",
            "Epoch 14/20\n",
            "469/469 [==============================] - 3s 7ms/step - loss: 0.0079 - accuracy: 0.9970\n",
            "Epoch 15/20\n",
            "469/469 [==============================] - 4s 7ms/step - loss: 0.0058 - accuracy: 0.9980\n",
            "Epoch 16/20\n",
            "469/469 [==============================] - 4s 7ms/step - loss: 0.0072 - accuracy: 0.9974\n",
            "Epoch 17/20\n",
            "469/469 [==============================] - 4s 7ms/step - loss: 0.0053 - accuracy: 0.9981\n",
            "Epoch 18/20\n",
            "469/469 [==============================] - 4s 7ms/step - loss: 0.0060 - accuracy: 0.9979\n",
            "Epoch 19/20\n",
            "469/469 [==============================] - 4s 8ms/step - loss: 0.0047 - accuracy: 0.9981\n",
            "Epoch 20/20\n",
            "469/469 [==============================] - 4s 8ms/step - loss: 0.0048 - accuracy: 0.9984\n"
          ],
          "name": "stdout"
        },
        {
          "output_type": "execute_result",
          "data": {
            "text/plain": [
              "<tensorflow.python.keras.callbacks.History at 0x7f06a81a4978>"
            ]
          },
          "metadata": {
            "tags": []
          },
          "execution_count": 136
        }
      ]
    },
    {
      "cell_type": "code",
      "metadata": {
        "id": "RMbJODmkbhhm",
        "colab_type": "code",
        "colab": {}
      },
      "source": [
        "#load Training data into a datalist\n",
        "data_file = open(\"//content/gdrive/My Drive/MNIST/mnist_test.csv\",'r')\n",
        "data_list = data_file.readlines()\n",
        "data_file.close()"
      ],
      "execution_count": 53,
      "outputs": []
    },
    {
      "cell_type": "code",
      "metadata": {
        "id": "lMjoAyi3TRT0",
        "colab_type": "code",
        "colab": {
          "base_uri": "https://localhost:8080/",
          "height": 35
        },
        "outputId": "58713dc7-13cf-41b0-f056-7a872383c926"
      },
      "source": [
        "model.save(\"//content/gdrive/My Drive/MNIST/trained_model\")"
      ],
      "execution_count": 101,
      "outputs": [
        {
          "output_type": "stream",
          "text": [
            "INFO:tensorflow:Assets written to: //content/gdrive/My Drive/MNIST/trained_model/assets\n"
          ],
          "name": "stdout"
        }
      ]
    },
    {
      "cell_type": "code",
      "metadata": {
        "id": "n-rWSI1dboeg",
        "colab_type": "code",
        "colab": {}
      },
      "source": [
        "#Load data and labels into X_test and y_test respectively\n",
        "X_test = []\n",
        "y_test = []\n",
        "for rows in data_list:\n",
        "  tmp_row = np.asfarray(rows.split(',')[1:])\n",
        "  tmp_row[tmp_row < 20.0] = 0.0\n",
        "  X_test.append(np.asfarray(tmp_row).reshape([28,28]))\n",
        "  y_test.append(int(rows.split(',')[0]))\n",
        "X_test = np.array(X_test)/255.0 + 0.01 #scaling test data\n",
        "y_test = np.array(y_test)"
      ],
      "execution_count": 137,
      "outputs": []
    },
    {
      "cell_type": "code",
      "metadata": {
        "id": "kSoiJ2NSb7TJ",
        "colab_type": "code",
        "colab": {
          "base_uri": "https://localhost:8080/",
          "height": 54
        },
        "outputId": "1b4a1b5f-ebed-48d3-c5ad-08bdc4e20b1f"
      },
      "source": [
        "#Evaluate the trained model on test data\n",
        "model.evaluate(X_test[...,np.newaxis],y_test)"
      ],
      "execution_count": 138,
      "outputs": [
        {
          "output_type": "stream",
          "text": [
            "313/313 [==============================] - 1s 2ms/step - loss: 0.0276 - accuracy: 0.9936\n"
          ],
          "name": "stdout"
        },
        {
          "output_type": "execute_result",
          "data": {
            "text/plain": [
              "[0.027632778510451317, 0.9936000108718872]"
            ]
          },
          "metadata": {
            "tags": []
          },
          "execution_count": 138
        }
      ]
    },
    {
      "cell_type": "code",
      "metadata": {
        "id": "t3NqAgvbeONQ",
        "colab_type": "code",
        "colab": {
          "base_uri": "https://localhost:8080/",
          "height": 283
        },
        "outputId": "5dafca39-b60f-42c5-aef1-ea3977d6c671"
      },
      "source": [
        "#Check a couple of images and their corresponding labels.\n",
        "plt.pyplot.imshow(X_test[0],cmap='Greys',interpolation='None')\n",
        "#print(X_test[1458])"
      ],
      "execution_count": 127,
      "outputs": [
        {
          "output_type": "execute_result",
          "data": {
            "text/plain": [
              "<matplotlib.image.AxesImage at 0x7f06572070b8>"
            ]
          },
          "metadata": {
            "tags": []
          },
          "execution_count": 127
        },
        {
          "output_type": "display_data",
          "data": {
            "image/png": "[encoded data removed]",
            "text/plain": [
              "<Figure size 432x288 with 1 Axes>"
            ]
          },
          "metadata": {
            "tags": [],
            "needs_background": "light"
          }
        }
      ]
    },
    {
      "cell_type": "code",
      "metadata": {
        "id": "R3EpO08XefrI",
        "colab_type": "code",
        "colab": {
          "base_uri": "https://localhost:8080/",
          "height": 54
        },
        "outputId": "deea011a-4480-4069-da86-507f62304e65"
      },
      "source": [
        "pred_image = X_test[0]\n",
        "print(pred_image.shape)\n",
        "#pred_image[np.newaxis,...,np.newaxis]\n",
        "np.argmax(model.predict(pred_image[np.newaxis,...,np.newaxis]))"
      ],
      "execution_count": 139,
      "outputs": [
        {
          "output_type": "stream",
          "text": [
            "(28, 28)\n"
          ],
          "name": "stdout"
        },
        {
          "output_type": "execute_result",
          "data": {
            "text/plain": [
              "7"
            ]
          },
          "metadata": {
            "tags": []
          },
          "execution_count": 139
        }
      ]
    },
    {
      "cell_type": "code",
      "metadata": {
        "id": "QPhMXdwi4bPP",
        "colab_type": "code",
        "colab": {
          "base_uri": "https://localhost:8080/",
          "height": 36
        },
        "outputId": "a73b1e99-9b88-4dae-d610-ff7b7c7812f0"
      },
      "source": [
        "pip install pillow"
      ],
      "execution_count": null,
      "outputs": [
        {
          "output_type": "stream",
          "text": [
            "Requirement already satisfied: pillow in /usr/local/lib/python3.6/dist-packages (7.0.0)\n"
          ],
          "name": "stdout"
        }
      ]
    },
    {
      "cell_type": "code",
      "metadata": {
        "id": "PwRzClvQc-h_",
        "colab_type": "code",
        "colab": {}
      },
      "source": [
        "model = tensorflow.keras.models.load_model(\"//content/gdrive/My Drive/MNIST/trained_model\")"
      ],
      "execution_count": 20,
      "outputs": []
    },
    {
      "cell_type": "code",
      "metadata": {
        "id": "-yXTepUV5z2T",
        "colab_type": "code",
        "colab": {
          "base_uri": "https://localhost:8080/",
          "height": 283
        },
        "outputId": "065d7940-d644-4699-b74a-fce1a2c78fb6"
      },
      "source": [
        "img = Image.open(\"//content/gdrive/My Drive/MNIST/seven.jpg\")\n",
        "img = img.convert(\"L\")\n",
        "img = np.array(img.resize((28,28)))\n",
        "img = np.array(img)\n",
        "img = (255.0 - img) \n",
        "img[img < 20.0] = 0\n",
        "img[img > 20.0] = np.max(img)\n",
        "img = img /255.0 * 0.99 + 0.01\n",
        "#plt.figure()\n",
        "plt.pyplot.imshow(img,cmap='Greys',interpolation='None')\n",
        "#print(img)"
      ],
      "execution_count": 140,
      "outputs": [
        {
          "output_type": "execute_result",
          "data": {
            "text/plain": [
              "<matplotlib.image.AxesImage at 0x7f06a814e1d0>"
            ]
          },
          "metadata": {
            "tags": []
          },
          "execution_count": 140
        },
        {
          "output_type": "display_data",
          "data": {
            "image/png": "[encoded data removed]",
            "text/plain": [
              "<Figure size 432x288 with 1 Axes>"
            ]
          },
          "metadata": {
            "tags": [],
            "needs_background": "light"
          }
        }
      ]
    },
    {
      "cell_type": "code",
      "metadata": {
        "id": "K0dpZxPKjfNp",
        "colab_type": "code",
        "colab": {
          "base_uri": "https://localhost:8080/",
          "height": 35
        },
        "outputId": "50cd54df-da13-49e0-edfa-f08cf33b9d42"
      },
      "source": [
        "np.argmax(model.predict(img[np.newaxis,...,np.newaxis]))\n",
        "#model.predict(img[np.newaxis,...,np.newaxis])"
      ],
      "execution_count": 141,
      "outputs": [
        {
          "output_type": "execute_result",
          "data": {
            "text/plain": [
              "7"
            ]
          },
          "metadata": {
            "tags": []
          },
          "execution_count": 141
        }
      ]
    },
    {
      "cell_type": "code",
      "metadata": {
        "id": "3DXieuSiT7aL",
        "colab_type": "code",
        "colab": {}
      },
      "source": [
        "#The following additions to the code are to draw bounding boxes around the digits so that we can get them as close as possible to the MNIST dataset\n",
        "import cv2"
      ],
      "execution_count": 148,
      "outputs": []
    },
    {
      "cell_type": "code",
      "metadata": {
        "id": "b78TbYkfUSs_",
        "colab_type": "code",
        "colab": {}
      },
      "source": [
        "image = cv2.imread(\"//content/gdrive/My Drive/MNIST/Numbers_3.jpg\") #load the image file\n",
        "img = image.copy()\n",
        "k1 = np.ones((5,5))\n",
        "image = cv2.morphologyEx(image, cv2.MORPH_OPEN, k1, iterations = 5)\n",
        "image = cv2.medianBlur(image,5)\n",
        "grey = cv2.cvtColor(image.copy(), cv2.COLOR_BGR2GRAY) #Convert it into grayscale\n",
        "_, thresh = cv2.threshold(grey.copy(),150,255,cv2.THRESH_BINARY_INV)\n",
        "contours, _ = cv2.findContours(thresh.copy(), cv2.RETR_EXTERNAL, cv2.CHAIN_APPROX_SIMPLE)"
      ],
      "execution_count": 150,
      "outputs": []
    },
    {
      "cell_type": "code",
      "metadata": {
        "id": "mFWiwRwiV7kU",
        "colab_type": "code",
        "colab": {
          "base_uri": "https://localhost:8080/",
          "height": 35
        },
        "outputId": "ea54b258-d2e7-4ca9-c39d-cacf96ce1f59"
      },
      "source": [
        "#print(contours) #all possible candidates for contours\n",
        "print(np.size(contours))"
      ],
      "execution_count": 144,
      "outputs": [
        {
          "output_type": "stream",
          "text": [
            "1484\n"
          ],
          "name": "stdout"
        }
      ]
    },
    {
      "cell_type": "code",
      "metadata": {
        "id": "T1zdC_4NWeuZ",
        "colab_type": "code",
        "colab": {
          "base_uri": "https://localhost:8080/",
          "height": 1000
        },
        "outputId": "d6914ab6-ce6f-4256-cb07-31f13ac55514"
      },
      "source": [
        "preprocessed_digits = []\n",
        "count = 0\n",
        "for c in contours:\n",
        "    count += 1\n",
        "    x,y,w,h = cv2.boundingRect(c)\n",
        "    #print(x,y,w,h)\n",
        "    # Creating a rectangle around the digit in the original image (for displaying the digits fetched via contours)\n",
        "    cv2.rectangle(image, (x,y), (x+w, y+h), color=(0, 255, 0), thickness=2) # Drawing a green box around the number.\n",
        "    # Cropping out the digit from the image corresponding to the current contours in the for loop\n",
        "    digit = thresh[y:y+h, x:x+w]\n",
        "    # Resizing that digit to (18, 18)\n",
        "    resized_digit = cv2.resize(digit, (18,18))\n",
        "    #padding the resized digit with 5 pixels in each direction\n",
        "    padded_digit = np.pad(resized_digit, ((5,5),(5,5)), \"constant\", constant_values=0.01)\n",
        "    # Adding the preprocessed digit to the list of preprocessed digits\n",
        "    padded_digit = padded_digit /255.0 * 0.99 + 0.01\n",
        "    preprocessed_digits.append(padded_digit)\n",
        "    plt.pyplot.figure()\n",
        "    plt.pyplot.imshow(padded_digit,cmap='Greys')\n",
        "    print(np.argmax(model.predict(padded_digit[np.newaxis,...,np.newaxis])))\n",
        "plt.pyplot.figure()\n",
        "plt.pyplot.imshow(image,cmap='Greys')\n",
        "plt.pyplot.figure()\n",
        "plt.pyplot.imshow(img,cmap='Greys')\n",
        "#print(padded_digit)\n",
        "# print(np.size(preprocessed_digits) , count)"
      ],
      "execution_count": 151,
      "outputs": [
        {
          "output_type": "stream",
          "text": [
            "8\n",
            "9\n",
            "7\n",
            "6\n",
            "4\n",
            "5\n",
            "3\n",
            "2\n"
          ],
          "name": "stdout"
        },
        {
          "output_type": "execute_result",
          "data": {
            "text/plain": [
              "<matplotlib.image.AxesImage at 0x7f06569a0dd8>"
            ]
          },
          "metadata": {
            "tags": []
          },
          "execution_count": 151
        },
        {
          "output_type": "display_data",
          "data": {
            "image/png": "[encoded data removed]",
            "text/plain": [
              "<Figure size 432x288 with 1 Axes>"
            ]
          },
          "metadata": {
            "tags": [],
            "needs_background": "light"
          }
        },
        {
          "output_type": "display_data",
          "data": {
            "image/png": "[encoded data removed]",
            "text/plain": [
              "<Figure size 432x288 with 1 Axes>"
            ]
          },
          "metadata": {
            "tags": [],
            "needs_background": "light"
          }
        },
        {
          "output_type": "display_data",
          "data": {
            "image/png": "[encoded data removed]",
            "text/plain": [
              "<Figure size 432x288 with 1 Axes>"
            ]
          },
          "metadata": {
            "tags": [],
            "needs_background": "light"
          }
        },
        {
          "output_type": "display_data",
          "data": {
            "image/png": "[encoded data removed]",
            "text/plain": [
              "<Figure size 432x288 with 1 Axes>"
            ]
          },
          "metadata": {
            "tags": [],
            "needs_background": "light"
          }
        },
        {
          "output_type": "display_data",
          "data": {
            "image/png": "[encoded data removed]",
            "text/plain": [
              "<Figure size 432x288 with 1 Axes>"
            ]
          },
          "metadata": {
            "tags": [],
            "needs_background": "light"
          }
        },
        {
          "output_type": "display_data",
          "data": {
            "image/png": "[encoded data removed]",
            "text/plain": [
              "<Figure size 432x288 with 1 Axes>"
            ]
          },
          "metadata": {
            "tags": [],
            "needs_background": "light"
          }
        },
        {
          "output_type": "display_data",
          "data": {
            "image/png": "[encoded data removed]",
            "text/plain": [
              "<Figure size 432x288 with 1 Axes>"
            ]
          },
          "metadata": {
            "tags": [],
            "needs_background": "light"
          }
        },
        {
          "output_type": "display_data",
          "data": {
            "image/png": "[encoded data removed]",
            "text/plain": [
              "<Figure size 432x288 with 1 Axes>"
            ]
          },
          "metadata": {
            "tags": [],
            "needs_background": "light"
          }
        },
        {
          "output_type": "display_data",
          "data": {
            "image/png": "[encoded data removed]",
            "text/plain": [
              "<Figure size 432x288 with 1 Axes>"
            ]
          },
          "metadata": {
            "tags": [],
            "needs_background": "light"
          }
        },
        {
          "output_type": "display_data",
          "data": {
            "image/png": "[encoded data removed]",
            "text/plain": [
              "<Figure size 432x288 with 1 Axes>"
            ]
          },
          "metadata": {
            "tags": [],
            "needs_background": "light"
          }
        }
      ]
    },
    {
      "cell_type": "code",
      "metadata": {
        "id": "8-zlSTsB4Tb5",
        "colab_type": "code",
        "colab": {
          "base_uri": "https://localhost:8080/",
          "height": 283
        },
        "outputId": "9a8a3433-5e02-4c9f-dd7e-71325a86e562"
      },
      "source": [
        "for pds in preprocessed_digits:\n",
        "  plt.pyplot.figure()\n",
        "  plt.pyplot.imshow(pds,cmap='Greys')\n",
        "  print(np.argmax(model.predict(pds[np.newaxis,...,np.newaxis])))"
      ],
      "execution_count": 146,
      "outputs": [
        {
          "output_type": "stream",
          "text": [
            "2\n"
          ],
          "name": "stdout"
        },
        {
          "output_type": "display_data",
          "data": {
            "image/png": "[encoded data removed]",
            "text/plain": [
              "<Figure size 432x288 with 1 Axes>"
            ]
          },
          "metadata": {
            "tags": [],
            "needs_background": "light"
          }
        }
      ]
    }
  ]
}