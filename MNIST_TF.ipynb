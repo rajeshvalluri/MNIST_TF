{
  "nbformat": 4,
  "nbformat_minor": 0,
  "metadata": {
    "colab": {
      "name": "MNIST_TF.ipynb",
      "provenance": [],
      "collapsed_sections": [],
      "authorship_tag": "ABX9TyNdMNnFCB0CFStfolq/iKGf",
      "include_colab_link": true
    },
    "kernelspec": {
      "name": "python3",
      "display_name": "Python 3"
    },
    "accelerator": "GPU"
  },
  "cells": [
    {
      "cell_type": "markdown",
      "metadata": {
        "id": "view-in-github",
        "colab_type": "text"
      },
      "source": [
        "<a href=\"https://colab.research.google.com/github/rajeshvalluri/MNIST_TF/blob/master/MNIST_TF.ipynb\" target=\"_parent\"><img src=\"https://colab.research.google.com/assets/colab-badge.svg\" alt=\"Open In Colab\"/></a>"
      ]
    },
    {
      "cell_type": "code",
      "metadata": {
        "id": "YciVxHrloD1e",
        "colab_type": "code",
        "colab": {
          "base_uri": "https://localhost:8080/",
          "height": 35
        },
        "outputId": "602ce184-dd60-47cb-be30-a3ba8576d038"
      },
      "source": [
        "#modifications 21-09-202\n",
        "import tensorflow as tf\n",
        "print(tf.__version__)"
      ],
      "execution_count": 1,
      "outputs": [
        {
          "output_type": "stream",
          "text": [
            "2.3.0\n"
          ],
          "name": "stdout"
        }
      ]
    },
    {
      "cell_type": "code",
      "metadata": {
        "id": "nkO7AGFAPJv3",
        "colab_type": "code",
        "colab": {
          "base_uri": "https://localhost:8080/",
          "height": 35
        },
        "outputId": "98507f91-fd2c-4fdf-b5a7-979b13300d5a"
      },
      "source": [
        "!nvidia-smi -L"
      ],
      "execution_count": 3,
      "outputs": [
        {
          "output_type": "stream",
          "text": [
            "GPU 0: Tesla P4 (UUID: GPU-7acf9daa-ca3c-cb34-30b2-7fdcbd2b8a25)\n"
          ],
          "name": "stdout"
        }
      ]
    },
    {
      "cell_type": "code",
      "metadata": {
        "id": "I_mAYEs0i7kj",
        "colab_type": "code",
        "colab": {}
      },
      "source": [
        "import tensorflow.keras\n",
        "from keras.models import Sequential\n",
        "from keras.layers import Dense, Conv2D, Dropout, MaxPool2D, Flatten\n",
        "import numpy as np\n",
        "import pandas as pd\n",
        "import matplotlib as plt\n",
        "from scipy import *\n",
        "from PIL import Image, ImageOps\n",
        "%matplotlib inline\n"
      ],
      "execution_count": 5,
      "outputs": []
    },
    {
      "cell_type": "code",
      "metadata": {
        "id": "4HusvV4DoPCO",
        "colab_type": "code",
        "colab": {
          "base_uri": "https://localhost:8080/",
          "height": 35
        },
        "outputId": "65370d56-14ad-4036-a4cd-6d2011fccf1c"
      },
      "source": [
        "#Load the MNIST files from Google Drive\n",
        "from google.colab import drive\n",
        "drive.mount(\"/content/gdrive\")"
      ],
      "execution_count": 6,
      "outputs": [
        {
          "output_type": "stream",
          "text": [
            "Mounted at /content/gdrive\n"
          ],
          "name": "stdout"
        }
      ]
    },
    {
      "cell_type": "code",
      "metadata": {
        "id": "q31bTsF8pT3a",
        "colab_type": "code",
        "colab": {}
      },
      "source": [
        "#load Training data into a datalist\n",
        "data_file = open(\"//content/gdrive/My Drive/MNIST/mnist_train.csv\",'r')\n",
        "data_list = data_file.readlines()\n",
        "data_file.close()"
      ],
      "execution_count": 30,
      "outputs": []
    },
    {
      "cell_type": "code",
      "metadata": {
        "id": "t-XvvHleUaPO",
        "colab_type": "code",
        "colab": {}
      },
      "source": [
        "input_shape = 784"
      ],
      "execution_count": 31,
      "outputs": []
    },
    {
      "cell_type": "code",
      "metadata": {
        "id": "66lTSUaPs88Y",
        "colab_type": "code",
        "colab": {}
      },
      "source": [
        "#Load data and labels into X_train and y_train respectively\n",
        "X_train = []\n",
        "y_train = []\n",
        "for rows in data_list:\n",
        "  tmp_row = np.asfarray(rows.split(',')[1:])\n",
        "  tmp_row[tmp_row < 20.0] = 0.0\n",
        "  X_train.append(tmp_row.reshape([28,28]))\n",
        "  y_train.append(int(rows.split(',')[0]))"
      ],
      "execution_count": 32,
      "outputs": []
    },
    {
      "cell_type": "code",
      "metadata": {
        "id": "w0tUFBNaevar",
        "colab_type": "code",
        "colab": {
          "base_uri": "https://localhost:8080/",
          "height": 283
        },
        "outputId": "7a87a136-484f-4e4b-f82a-f1bea9bd4f43"
      },
      "source": [
        "#print(X_train[0])\n",
        "plt.pyplot.imshow(X_train[0],cmap='Greys',interpolation='None')"
      ],
      "execution_count": 33,
      "outputs": [
        {
          "output_type": "execute_result",
          "data": {
            "text/plain": [
              "<matplotlib.image.AxesImage at 0x7fa54aa0d588>"
            ]
          },
          "metadata": {
            "tags": []
          },
          "execution_count": 33
        },
        {
          "output_type": "display_data",
          "data": {
            "image/png": "[encoded data removed]",
            "text/plain": [
              "<Figure size 432x288 with 1 Axes>"
            ]
          },
          "metadata": {
            "tags": [],
            "needs_background": "light"
          }
        }
      ]
    },
    {
      "cell_type": "code",
      "metadata": {
        "id": "EQ2w-tKKqcB-",
        "colab_type": "code",
        "colab": {
          "base_uri": "https://localhost:8080/",
          "height": 283
        },
        "outputId": "65e1759f-0fca-4146-d6ba-de79081e81b2"
      },
      "source": [
        "#Check a couple of images and their corresponding labels.\n",
        "X_train = np.array(X_train)/255.0 + 0.01#scaling input data to be between 0 and 1\n",
        "y_train = np.array(y_train)\n",
        "plt.pyplot.imshow(X_train[0],cmap='Greys',interpolation='None')"
      ],
      "execution_count": 34,
      "outputs": [
        {
          "output_type": "execute_result",
          "data": {
            "text/plain": [
              "<matplotlib.image.AxesImage at 0x7fa54a9bd5c0>"
            ]
          },
          "metadata": {
            "tags": []
          },
          "execution_count": 34
        },
        {
          "output_type": "display_data",
          "data": {
            "image/png": "[encoded data removed]",
            "text/plain": [
              "<Figure size 432x288 with 1 Axes>"
            ]
          },
          "metadata": {
            "tags": [],
            "needs_background": "light"
          }
        }
      ]
    },
    {
      "cell_type": "code",
      "metadata": {
        "id": "yyIW2hUOTKXP",
        "colab_type": "code",
        "colab": {
          "base_uri": "https://localhost:8080/",
          "height": 531
        },
        "outputId": "48a0fab0-d6e8-4f33-ccae-187bf457a5d9"
      },
      "source": [
        "model = Sequential()\n",
        "model.add(Conv2D(32,kernel_size=3,activation='relu',input_shape=(28,28,1) ,padding='same'))\n",
        "model.add(Conv2D(64,kernel_size=3,activation='relu'))\n",
        "model.add(Conv2D(64,kernel_size=3,activation='relu'))\n",
        "model.add(MaxPool2D(pool_size=(3,3),padding='same'))\n",
        "model.add(Flatten())\n",
        "model.add(Dense(units = 100,activation= 'relu'))\n",
        "model.add(Dropout(0.10))\n",
        "model.add(Dense(units = 100,activation= 'relu'))\n",
        "model.add(Dropout(0.10))\n",
        "model.add(Dense(units=10,activation='softmax'))\n",
        "opt = tf.keras.optimizers.Adam()\n",
        "metrics = 'accuracy'\n",
        "loss = 'sparse_categorical_crossentropy'\n",
        "model.compile(optimizer=opt,loss=loss,metrics=[metrics])\n",
        "model.summary()"
      ],
      "execution_count": 35,
      "outputs": [
        {
          "output_type": "stream",
          "text": [
            "Model: \"sequential\"\n",
            "_________________________________________________________________\n",
            "Layer (type)                 Output Shape              Param #   \n",
            "=================================================================\n",
            "conv2d (Conv2D)              (None, 28, 28, 32)        320       \n",
            "_________________________________________________________________\n",
            "conv2d_1 (Conv2D)            (None, 26, 26, 64)        18496     \n",
            "_________________________________________________________________\n",
            "conv2d_2 (Conv2D)            (None, 24, 24, 64)        36928     \n",
            "_________________________________________________________________\n",
            "max_pooling2d (MaxPooling2D) (None, 8, 8, 64)          0         \n",
            "_________________________________________________________________\n",
            "flatten (Flatten)            (None, 4096)              0         \n",
            "_________________________________________________________________\n",
            "dense (Dense)                (None, 100)               409700    \n",
            "_________________________________________________________________\n",
            "dropout (Dropout)            (None, 100)               0         \n",
            "_________________________________________________________________\n",
            "dense_1 (Dense)              (None, 100)               10100     \n",
            "_________________________________________________________________\n",
            "dropout_1 (Dropout)          (None, 100)               0         \n",
            "_________________________________________________________________\n",
            "dense_2 (Dense)              (None, 10)                1010      \n",
            "=================================================================\n",
            "Total params: 476,554\n",
            "Trainable params: 476,554\n",
            "Non-trainable params: 0\n",
            "_________________________________________________________________\n"
          ],
          "name": "stdout"
        }
      ]
    },
    {
      "cell_type": "code",
      "metadata": {
        "id": "PVETIKgGdEvL",
        "colab_type": "code",
        "colab": {
          "base_uri": "https://localhost:8080/",
          "height": 35
        },
        "outputId": "a6056a45-05ca-4d1c-b98d-19a972aaf7d1"
      },
      "source": [
        "print(X_train.shape)"
      ],
      "execution_count": 36,
      "outputs": [
        {
          "output_type": "stream",
          "text": [
            "(60000, 28, 28)\n"
          ],
          "name": "stdout"
        }
      ]
    },
    {
      "cell_type": "code",
      "metadata": {
        "id": "NyRDCkl1WN55",
        "colab_type": "code",
        "colab": {
          "base_uri": "https://localhost:8080/",
          "height": 770
        },
        "outputId": "5612cdc3-9898-47bc-bb51-f155ebd161f2"
      },
      "source": [
        "model.fit(X_train[...,np.newaxis],y_train,verbose=1,epochs=20,batch_size=128)"
      ],
      "execution_count": 37,
      "outputs": [
        {
          "output_type": "stream",
          "text": [
            "Epoch 1/20\n",
            "469/469 [==============================] - 6s 13ms/step - loss: 0.2122 - accuracy: 0.9351\n",
            "Epoch 2/20\n",
            "469/469 [==============================] - 6s 13ms/step - loss: 0.0537 - accuracy: 0.9840\n",
            "Epoch 3/20\n",
            "469/469 [==============================] - 6s 13ms/step - loss: 0.0390 - accuracy: 0.9882\n",
            "Epoch 4/20\n",
            "469/469 [==============================] - 6s 13ms/step - loss: 0.0294 - accuracy: 0.9911\n",
            "Epoch 5/20\n",
            "469/469 [==============================] - 6s 13ms/step - loss: 0.0252 - accuracy: 0.9916\n",
            "Epoch 6/20\n",
            "469/469 [==============================] - 6s 13ms/step - loss: 0.0200 - accuracy: 0.9939\n",
            "Epoch 7/20\n",
            "469/469 [==============================] - 6s 13ms/step - loss: 0.0172 - accuracy: 0.9947\n",
            "Epoch 8/20\n",
            "469/469 [==============================] - 6s 13ms/step - loss: 0.0160 - accuracy: 0.9950\n",
            "Epoch 9/20\n",
            "469/469 [==============================] - 6s 13ms/step - loss: 0.0127 - accuracy: 0.9959\n",
            "Epoch 10/20\n",
            "469/469 [==============================] - 6s 13ms/step - loss: 0.0116 - accuracy: 0.9964\n",
            "Epoch 11/20\n",
            "469/469 [==============================] - 6s 13ms/step - loss: 0.0101 - accuracy: 0.9966\n",
            "Epoch 12/20\n",
            "469/469 [==============================] - 6s 13ms/step - loss: 0.0091 - accuracy: 0.9972\n",
            "Epoch 13/20\n",
            "469/469 [==============================] - 6s 13ms/step - loss: 0.0088 - accuracy: 0.9966\n",
            "Epoch 14/20\n",
            "469/469 [==============================] - 6s 13ms/step - loss: 0.0075 - accuracy: 0.9976\n",
            "Epoch 15/20\n",
            "469/469 [==============================] - 6s 13ms/step - loss: 0.0086 - accuracy: 0.9971\n",
            "Epoch 16/20\n",
            "469/469 [==============================] - 6s 14ms/step - loss: 0.0084 - accuracy: 0.9975\n",
            "Epoch 17/20\n",
            "469/469 [==============================] - 6s 14ms/step - loss: 0.0059 - accuracy: 0.9981\n",
            "Epoch 18/20\n",
            "469/469 [==============================] - 6s 13ms/step - loss: 0.0065 - accuracy: 0.9979\n",
            "Epoch 19/20\n",
            "469/469 [==============================] - 6s 13ms/step - loss: 0.0073 - accuracy: 0.9978\n",
            "Epoch 20/20\n",
            "469/469 [==============================] - 6s 13ms/step - loss: 0.0047 - accuracy: 0.9985\n"
          ],
          "name": "stdout"
        },
        {
          "output_type": "execute_result",
          "data": {
            "text/plain": [
              "<tensorflow.python.keras.callbacks.History at 0x7fa54aa6b668>"
            ]
          },
          "metadata": {
            "tags": []
          },
          "execution_count": 37
        }
      ]
    },
    {
      "cell_type": "code",
      "metadata": {
        "id": "RMbJODmkbhhm",
        "colab_type": "code",
        "colab": {}
      },
      "source": [
        "#load Training data into a datalist\n",
        "data_file = open(\"//content/gdrive/My Drive/MNIST/mnist_test.csv\",'r')\n",
        "data_list = data_file.readlines()\n",
        "data_file.close()"
      ],
      "execution_count": 38,
      "outputs": []
    },
    {
      "cell_type": "code",
      "metadata": {
        "id": "lMjoAyi3TRT0",
        "colab_type": "code",
        "colab": {
          "base_uri": "https://localhost:8080/",
          "height": 35
        },
        "outputId": "25b720f6-4aec-4aec-d50a-f1df0b031dac"
      },
      "source": [
        "model.save(\"//content/gdrive/My Drive/MNIST/trained_model\")"
      ],
      "execution_count": 40,
      "outputs": [
        {
          "output_type": "stream",
          "text": [
            "INFO:tensorflow:Assets written to: //content/gdrive/My Drive/MNIST/trained_model/assets\n"
          ],
          "name": "stdout"
        }
      ]
    },
    {
      "cell_type": "code",
      "metadata": {
        "id": "n-rWSI1dboeg",
        "colab_type": "code",
        "colab": {}
      },
      "source": [
        "#Load data and labels into X_test and y_test respectively\n",
        "X_test = []\n",
        "y_test = []\n",
        "for rows in data_list:\n",
        "  tmp_row = np.asfarray(rows.split(',')[1:])\n",
        "  tmp_row[tmp_row < 20.0] = 0.0\n",
        "  X_test.append(np.asfarray(tmp_row).reshape([28,28]))\n",
        "  y_test.append(int(rows.split(',')[0]))\n",
        "X_test = np.array(X_test)/255.0 + 0.01 #scaling test data\n",
        "y_test = np.array(y_test)"
      ],
      "execution_count": 41,
      "outputs": []
    },
    {
      "cell_type": "code",
      "metadata": {
        "id": "kSoiJ2NSb7TJ",
        "colab_type": "code",
        "colab": {
          "base_uri": "https://localhost:8080/",
          "height": 54
        },
        "outputId": "f561390b-9b7c-4225-f3aa-2040edc91fc8"
      },
      "source": [
        "#Evaluate the trained model on test data\n",
        "model.evaluate(X_test[...,np.newaxis],y_test)"
      ],
      "execution_count": 42,
      "outputs": [
        {
          "output_type": "stream",
          "text": [
            "313/313 [==============================] - 1s 3ms/step - loss: 0.0361 - accuracy: 0.9932\n"
          ],
          "name": "stdout"
        },
        {
          "output_type": "execute_result",
          "data": {
            "text/plain": [
              "[0.036068689078092575, 0.9932000041007996]"
            ]
          },
          "metadata": {
            "tags": []
          },
          "execution_count": 42
        }
      ]
    },
    {
      "cell_type": "code",
      "metadata": {
        "id": "t3NqAgvbeONQ",
        "colab_type": "code",
        "colab": {
          "base_uri": "https://localhost:8080/",
          "height": 283
        },
        "outputId": "fccb2891-8d17-4cbe-b642-808a94059a28"
      },
      "source": [
        "#Check a couple of images and their corresponding labels.\n",
        "plt.pyplot.imshow(X_test[0],cmap='Greys',interpolation='None')\n",
        "#print(X_test[1458])"
      ],
      "execution_count": 43,
      "outputs": [
        {
          "output_type": "execute_result",
          "data": {
            "text/plain": [
              "<matplotlib.image.AxesImage at 0x7fa54c738208>"
            ]
          },
          "metadata": {
            "tags": []
          },
          "execution_count": 43
        },
        {
          "output_type": "display_data",
          "data": {
            "image/png": "[encoded data removed]",
            "text/plain": [
              "<Figure size 432x288 with 1 Axes>"
            ]
          },
          "metadata": {
            "tags": [],
            "needs_background": "light"
          }
        }
      ]
    },
    {
      "cell_type": "code",
      "metadata": {
        "id": "R3EpO08XefrI",
        "colab_type": "code",
        "colab": {
          "base_uri": "https://localhost:8080/",
          "height": 54
        },
        "outputId": "2b28cb28-cf66-4488-d68d-fc10a081c02f"
      },
      "source": [
        "pred_image = X_test[0]\n",
        "print(pred_image.shape)\n",
        "#pred_image[np.newaxis,...,np.newaxis]\n",
        "np.argmax(model.predict(pred_image[np.newaxis,...,np.newaxis]))"
      ],
      "execution_count": 44,
      "outputs": [
        {
          "output_type": "stream",
          "text": [
            "(28, 28)\n"
          ],
          "name": "stdout"
        },
        {
          "output_type": "execute_result",
          "data": {
            "text/plain": [
              "7"
            ]
          },
          "metadata": {
            "tags": []
          },
          "execution_count": 44
        }
      ]
    },
    {
      "cell_type": "code",
      "metadata": {
        "id": "QPhMXdwi4bPP",
        "colab_type": "code",
        "colab": {
          "base_uri": "https://localhost:8080/",
          "height": 36
        },
        "outputId": "a73b1e99-9b88-4dae-d610-ff7b7c7812f0"
      },
      "source": [
        "pip install pillow"
      ],
      "execution_count": null,
      "outputs": [
        {
          "output_type": "stream",
          "text": [
            "Requirement already satisfied: pillow in /usr/local/lib/python3.6/dist-packages (7.0.0)\n"
          ],
          "name": "stdout"
        }
      ]
    },
    {
      "cell_type": "code",
      "metadata": {
        "id": "PwRzClvQc-h_",
        "colab_type": "code",
        "colab": {}
      },
      "source": [
        "model = tensorflow.keras.models.load_model(\"//content/gdrive/My Drive/MNIST/trained_model\")"
      ],
      "execution_count": 19,
      "outputs": []
    },
    {
      "cell_type": "code",
      "metadata": {
        "id": "-yXTepUV5z2T",
        "colab_type": "code",
        "colab": {
          "base_uri": "https://localhost:8080/",
          "height": 283
        },
        "outputId": "7dd41fae-57b7-4779-e731-c9d88db6df4f"
      },
      "source": [
        "img = Image.open(\"//content/gdrive/My Drive/MNIST/seven.jpg\")\n",
        "img = img.convert(\"L\")\n",
        "img = np.array(img.resize((28,28)))\n",
        "img = np.array(img)\n",
        "img = (255.0 - img) \n",
        "img[img < 20.0] = 0\n",
        "img[img > 20.0] = np.max(img)\n",
        "img = img /255.0 * 0.99 + 0.01\n",
        "plt.imshow(img,cmap='Greys',interpolation='None')"
      ],
      "execution_count": 482,
      "outputs": [
        {
          "output_type": "execute_result",
          "data": {
            "text/plain": [
              "<matplotlib.image.AxesImage at 0x7fa5147becf8>"
            ]
          },
          "metadata": {
            "tags": []
          },
          "execution_count": 482
        },
        {
          "output_type": "display_data",
          "data": {
            "image/png": "[encoded data removed]",
            "text/plain": [
              "<Figure size 432x288 with 1 Axes>"
            ]
          },
          "metadata": {
            "tags": [],
            "needs_background": "light"
          }
        }
      ]
    },
    {
      "cell_type": "code",
      "metadata": {
        "id": "K0dpZxPKjfNp",
        "colab_type": "code",
        "colab": {
          "base_uri": "https://localhost:8080/",
          "height": 35
        },
        "outputId": "30e2b0d5-1013-4896-d045-6ca36f7f8fbc"
      },
      "source": [
        "np.argmax(model.predict(img[np.newaxis,...,np.newaxis]))\n",
        "#model.predict(img[np.newaxis,...,np.newaxis])"
      ],
      "execution_count": 349,
      "outputs": [
        {
          "output_type": "execute_result",
          "data": {
            "text/plain": [
              "2"
            ]
          },
          "metadata": {
            "tags": []
          },
          "execution_count": 349
        }
      ]
    },
    {
      "cell_type": "code",
      "metadata": {
        "id": "3DXieuSiT7aL",
        "colab_type": "code",
        "colab": {}
      },
      "source": [
        "#The following additions to the code are to draw bounding boxes around the digits so that we can get them as close as possible to the MNIST dataset\n",
        "import cv2"
      ],
      "execution_count": 49,
      "outputs": []
    },
    {
      "cell_type": "code",
      "metadata": {
        "id": "b78TbYkfUSs_",
        "colab_type": "code",
        "colab": {}
      },
      "source": [
        "image = cv2.imread(\"//content/gdrive/My Drive/MNIST/eight_2.jpg\") #load the image file\n",
        "img = image.copy()\n",
        "k1 = np.ones((5,5))\n",
        "image = cv2.morphologyEx(image, cv2.MORPH_OPEN, k1, iterations = 10)\n",
        "image = cv2.medianBlur(image,5)\n",
        "grey = cv2.cvtColor(image.copy(), cv2.COLOR_BGR2GRAY) #Convert it into grayscale\n",
        "_, thresh = cv2.threshold(grey.copy(),150,255,cv2.THRESH_BINARY_INV)\n",
        "contours, _ = cv2.findContours(thresh.copy(), cv2.RETR_EXTERNAL, cv2.CHAIN_APPROX_SIMPLE)"
      ],
      "execution_count": 523,
      "outputs": []
    },
    {
      "cell_type": "code",
      "metadata": {
        "id": "mFWiwRwiV7kU",
        "colab_type": "code",
        "colab": {
          "base_uri": "https://localhost:8080/",
          "height": 35
        },
        "outputId": "ebc9a7aa-d95d-44b0-a340-e1f890530a4d"
      },
      "source": [
        "#print(contours) #all possible candidates for contours\n",
        "print(np.size(contours))"
      ],
      "execution_count": 524,
      "outputs": [
        {
          "output_type": "stream",
          "text": [
            "1354\n"
          ],
          "name": "stdout"
        }
      ]
    },
    {
      "cell_type": "code",
      "metadata": {
        "id": "T1zdC_4NWeuZ",
        "colab_type": "code",
        "colab": {
          "base_uri": "https://localhost:8080/",
          "height": 558
        },
        "outputId": "3c0e8272-6a05-4ae0-d38c-c37b940b1863"
      },
      "source": [
        "preprocessed_digits = []\n",
        "count = 0\n",
        "for c in contours:\n",
        "    count += 1\n",
        "    x,y,w,h = cv2.boundingRect(c)\n",
        "    #print(x,y,w,h)\n",
        "    # Creating a rectangle around the digit in the original image (for displaying the digits fetched via contours)\n",
        "    cv2.rectangle(image, (x,y), (x+w, y+h), color=(0, 255, 0), thickness=2) # Drawing a green box around the number.\n",
        "    # Cropping out the digit from the image corresponding to the current contours in the for loop\n",
        "    digit = thresh[y:y+h, x:x+w]\n",
        "    # Resizing that digit to (18, 18)\n",
        "    resized_digit = cv2.resize(digit, (18,18))\n",
        "    #padding the resized digit with 5 pixels in each direction\n",
        "    padded_digit = np.pad(resized_digit, ((5,5),(5,5)), \"constant\", constant_values=0)\n",
        "    # Adding the preprocessed digit to the list of preprocessed digits\n",
        "    preprocessed_digits.append(padded_digit)\n",
        "plt.figure()\n",
        "plt.imshow(image)\n",
        "plt.figure()\n",
        "plt.imshow(img)\n",
        "print(np.size(contours))\n",
        "print(np.size(preprocessed_digits) , count)"
      ],
      "execution_count": 525,
      "outputs": [
        {
          "output_type": "stream",
          "text": [
            "1354\n",
            "784 1\n"
          ],
          "name": "stdout"
        },
        {
          "output_type": "display_data",
          "data": {
            "image/png": "[encoded data removed]",
            "text/plain": [
              "<Figure size 432x288 with 1 Axes>"
            ]
          },
          "metadata": {
            "tags": [],
            "needs_background": "light"
          }
        },
        {
          "output_type": "display_data",
          "data": {
            "image/png": "[encoded data removed]",
            "text/plain": [
              "<Figure size 432x288 with 1 Axes>"
            ]
          },
          "metadata": {
            "tags": [],
            "needs_background": "light"
          }
        }
      ]
    },
    {
      "cell_type": "code",
      "metadata": {
        "id": "owC95JzaYT6Z",
        "colab_type": "code",
        "colab": {
          "base_uri": "https://localhost:8080/",
          "height": 531
        },
        "outputId": "9e2a2366-c28c-4073-9b01-b6ed98a26077"
      },
      "source": [
        "inp = np.array(preprocessed_digits)\n",
        "img = np.array(preprocessed_digits[0])\n",
        "# img = (255.0 - img) \n",
        "#img[img < 20.0] = 0\n",
        "#img[img > 5.0] = np.max(img)\n",
        "img = img /255.0 * 0.99 + 0.01\n",
        "plt.figure()\n",
        "plt.imshow(padded_digit, cmap=\"gray\")\n",
        "plt.figure()\n",
        "plt.imshow(img, cmap=\"gray\")"
      ],
      "execution_count": 527,
      "outputs": [
        {
          "output_type": "execute_result",
          "data": {
            "text/plain": [
              "<matplotlib.image.AxesImage at 0x7fa51225bb38>"
            ]
          },
          "metadata": {
            "tags": []
          },
          "execution_count": 527
        },
        {
          "output_type": "display_data",
          "data": {
            "image/png": "[encoded data removed]",
            "text/plain": [
              "<Figure size 432x288 with 1 Axes>"
            ]
          },
          "metadata": {
            "tags": [],
            "needs_background": "light"
          }
        },
        {
          "output_type": "display_data",
          "data": {
            "image/png": "[encoded data removed]",
            "text/plain": [
              "<Figure size 432x288 with 1 Axes>"
            ]
          },
          "metadata": {
            "tags": [],
            "needs_background": "light"
          }
        }
      ]
    },
    {
      "cell_type": "code",
      "metadata": {
        "id": "TvE43j8PZyVr",
        "colab_type": "code",
        "colab": {
          "base_uri": "https://localhost:8080/",
          "height": 35
        },
        "outputId": "86bc5896-d95c-4083-b7a5-86a188146383"
      },
      "source": [
        "np.argmax(model.predict(img[np.newaxis,...,np.newaxis]))"
      ],
      "execution_count": 528,
      "outputs": [
        {
          "output_type": "execute_result",
          "data": {
            "text/plain": [
              "8"
            ]
          },
          "metadata": {
            "tags": []
          },
          "execution_count": 528
        }
      ]
    }
  ]
}