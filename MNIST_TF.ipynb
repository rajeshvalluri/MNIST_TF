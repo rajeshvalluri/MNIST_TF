{
  "nbformat": 4,
  "nbformat_minor": 0,
  "metadata": {
    "colab": {
      "name": "MNIST_TF.ipynb",
      "provenance": [],
      "collapsed_sections": [],
      "authorship_tag": "ABX9TyMLt710ExP/SWLrt5y/RXf3",
      "include_colab_link": true
    },
    "kernelspec": {
      "name": "python3",
      "display_name": "Python 3"
    },
    "accelerator": "GPU"
  },
  "cells": [
    {
      "cell_type": "markdown",
      "metadata": {
        "id": "view-in-github",
        "colab_type": "text"
      },
      "source": [
        "<a href=\"https://colab.research.google.com/github/rajeshvalluri/MNIST_TF/blob/master/MNIST_TF.ipynb\" target=\"_parent\"><img src=\"https://colab.research.google.com/assets/colab-badge.svg\" alt=\"Open In Colab\"/></a>"
      ]
    },
    {
      "cell_type": "code",
      "metadata": {
        "id": "YciVxHrloD1e",
        "colab_type": "code",
        "colab": {
          "base_uri": "https://localhost:8080/",
          "height": 36
        },
        "outputId": "30f7f6a7-dcc0-4a0c-de0a-c78fcd3738f8"
      },
      "source": [
        "import tensorflow as tf\n",
        "print(tf.__version__)"
      ],
      "execution_count": 1,
      "outputs": [
        {
          "output_type": "stream",
          "text": [
            "2.3.0\n"
          ],
          "name": "stdout"
        }
      ]
    },
    {
      "cell_type": "code",
      "metadata": {
        "id": "I_mAYEs0i7kj",
        "colab_type": "code",
        "colab": {}
      },
      "source": [
        "import tensorflow.keras\n",
        "from keras.models import Sequential\n",
        "from keras.layers import Dense, Conv2D, Dropout, MaxPool2D\n",
        "import numpy as np\n",
        "import pandas as pd\n",
        "import matplotlib as plt\n",
        "from scipy import *\n",
        "from PIL import Image, ImageOps\n",
        "%matplotlib inline\n"
      ],
      "execution_count": 2,
      "outputs": []
    },
    {
      "cell_type": "code",
      "metadata": {
        "id": "4HusvV4DoPCO",
        "colab_type": "code",
        "colab": {
          "base_uri": "https://localhost:8080/",
          "height": 36
        },
        "outputId": "93851daf-f9c5-4422-c206-093993075886"
      },
      "source": [
        "#Load the MNIST files from Google Drive\n",
        "from google.colab import drive\n",
        "drive.mount(\"/content/gdrive\")"
      ],
      "execution_count": 4,
      "outputs": [
        {
          "output_type": "stream",
          "text": [
            "Mounted at /content/gdrive\n"
          ],
          "name": "stdout"
        }
      ]
    },
    {
      "cell_type": "code",
      "metadata": {
        "id": "q31bTsF8pT3a",
        "colab_type": "code",
        "colab": {}
      },
      "source": [
        "#load Training data into a datalist\n",
        "data_file = open(\"//content/gdrive/My Drive/MNIST/mnist_train.csv\",'r')\n",
        "data_list = data_file.readlines()\n",
        "data_file.close()"
      ],
      "execution_count": 134,
      "outputs": []
    },
    {
      "cell_type": "code",
      "metadata": {
        "id": "t-XvvHleUaPO",
        "colab_type": "code",
        "colab": {}
      },
      "source": [
        "input_shape = 784"
      ],
      "execution_count": 135,
      "outputs": []
    },
    {
      "cell_type": "code",
      "metadata": {
        "id": "66lTSUaPs88Y",
        "colab_type": "code",
        "colab": {}
      },
      "source": [
        "#Load data and labels into X_train and y_train respectively\n",
        "X_train = []\n",
        "y_train = []\n",
        "for rows in data_list:\n",
        "  X_train.append(np.asfarray(rows.split(',')[1:]))\n",
        "  y_train.append(int(rows.split(',')[0]))"
      ],
      "execution_count": 136,
      "outputs": []
    },
    {
      "cell_type": "code",
      "metadata": {
        "id": "EQ2w-tKKqcB-",
        "colab_type": "code",
        "colab": {
          "base_uri": "https://localhost:8080/",
          "height": 284
        },
        "outputId": "92bb0d1c-5bb9-48b0-8220-7c55de7de5f8"
      },
      "source": [
        "#Check a couple of images and their corresponding labels.\n",
        "X_train = np.array(X_train)/255.0 + 0.01#scaling input data to be between 0 and 1\n",
        "y_train = np.array(y_train)\n",
        "plt.pyplot.imshow(X_train[900].reshape([28,28]),cmap='Greys',interpolation='None')"
      ],
      "execution_count": 137,
      "outputs": [
        {
          "output_type": "execute_result",
          "data": {
            "text/plain": [
              "<matplotlib.image.AxesImage at 0x7fd1dc66e630>"
            ]
          },
          "metadata": {
            "tags": []
          },
          "execution_count": 137
        },
        {
          "output_type": "display_data",
          "data": {
            "image/png": "[encoded data removed]",
            "text/plain": [
              "<Figure size 432x288 with 1 Axes>"
            ]
          },
          "metadata": {
            "tags": [],
            "needs_background": "light"
          }
        }
      ]
    },
    {
      "cell_type": "code",
      "metadata": {
        "id": "yyIW2hUOTKXP",
        "colab_type": "code",
        "colab": {}
      },
      "source": [
        "model = Sequential()\n",
        "model.add(Dense(units=input_shape,activation=None))\n",
        "model.add(Dense(units = 100,activation= 'relu'))\n",
        "model.add(Dropout(0.10))\n",
        "model.add(Dense(units = 100,activation= 'relu'))\n",
        "model.add(Dropout(0.10))\n",
        "model.add(Dense(units=10,activation='softmax'))\n",
        "opt = tf.keras.optimizers.Adam()\n",
        "metrics = 'accuracy'\n",
        "loss = 'sparse_categorical_crossentropy'\n",
        "model.compile(optimizer=opt,loss=loss,metrics=[metrics])\n",
        "#model.summary()"
      ],
      "execution_count": 138,
      "outputs": []
    },
    {
      "cell_type": "code",
      "metadata": {
        "id": "PVETIKgGdEvL",
        "colab_type": "code",
        "colab": {
          "base_uri": "https://localhost:8080/",
          "height": 36
        },
        "outputId": "6402ea8f-debe-4b30-cc0d-3c8438edc21e"
      },
      "source": [
        "print(model.summary)"
      ],
      "execution_count": null,
      "outputs": [
        {
          "output_type": "stream",
          "text": [
            "<bound method Model.summary of <tensorflow.python.keras.engine.sequential.Sequential object at 0x7f73c3d9e588>>\n"
          ],
          "name": "stdout"
        }
      ]
    },
    {
      "cell_type": "code",
      "metadata": {
        "id": "NyRDCkl1WN55",
        "colab_type": "code",
        "colab": {
          "base_uri": "https://localhost:8080/",
          "height": 1000
        },
        "outputId": "e759f746-02b5-4124-ecee-9baac77c3486"
      },
      "source": [
        "model.fit(x=X_train,y=y_train,verbose=1,epochs=100,batch_size=128)"
      ],
      "execution_count": 139,
      "outputs": [
        {
          "output_type": "stream",
          "text": [
            "Epoch 1/100\n",
            "469/469 [==============================] - 1s 3ms/step - loss: 0.3056 - accuracy: 0.9082\n",
            "Epoch 2/100\n",
            "469/469 [==============================] - 1s 3ms/step - loss: 0.1569 - accuracy: 0.9527\n",
            "Epoch 3/100\n",
            "469/469 [==============================] - 1s 3ms/step - loss: 0.1268 - accuracy: 0.9603\n",
            "Epoch 4/100\n",
            "469/469 [==============================] - 1s 3ms/step - loss: 0.1060 - accuracy: 0.9674\n",
            "Epoch 5/100\n",
            "469/469 [==============================] - 1s 3ms/step - loss: 0.0939 - accuracy: 0.9708\n",
            "Epoch 6/100\n",
            "469/469 [==============================] - 1s 3ms/step - loss: 0.0854 - accuracy: 0.9731\n",
            "Epoch 7/100\n",
            "469/469 [==============================] - 1s 2ms/step - loss: 0.0818 - accuracy: 0.9736\n",
            "Epoch 8/100\n",
            "469/469 [==============================] - 1s 2ms/step - loss: 0.0760 - accuracy: 0.9757\n",
            "Epoch 9/100\n",
            "469/469 [==============================] - 1s 3ms/step - loss: 0.0681 - accuracy: 0.9781\n",
            "Epoch 10/100\n",
            "469/469 [==============================] - 1s 3ms/step - loss: 0.0696 - accuracy: 0.9783\n",
            "Epoch 11/100\n",
            "469/469 [==============================] - 1s 3ms/step - loss: 0.0620 - accuracy: 0.9797\n",
            "Epoch 12/100\n",
            "469/469 [==============================] - 1s 3ms/step - loss: 0.0635 - accuracy: 0.9793\n",
            "Epoch 13/100\n",
            "469/469 [==============================] - 1s 3ms/step - loss: 0.0581 - accuracy: 0.9813\n",
            "Epoch 14/100\n",
            "469/469 [==============================] - 1s 3ms/step - loss: 0.0573 - accuracy: 0.9812\n",
            "Epoch 15/100\n",
            "469/469 [==============================] - 1s 3ms/step - loss: 0.0571 - accuracy: 0.9820\n",
            "Epoch 16/100\n",
            "469/469 [==============================] - 1s 3ms/step - loss: 0.0540 - accuracy: 0.9827\n",
            "Epoch 17/100\n",
            "469/469 [==============================] - 1s 2ms/step - loss: 0.0528 - accuracy: 0.9829\n",
            "Epoch 18/100\n",
            "469/469 [==============================] - 1s 2ms/step - loss: 0.0545 - accuracy: 0.9827\n",
            "Epoch 19/100\n",
            "469/469 [==============================] - 1s 3ms/step - loss: 0.0489 - accuracy: 0.9842\n",
            "Epoch 20/100\n",
            "469/469 [==============================] - 1s 3ms/step - loss: 0.0496 - accuracy: 0.9833\n",
            "Epoch 21/100\n",
            "469/469 [==============================] - 1s 3ms/step - loss: 0.0479 - accuracy: 0.9853\n",
            "Epoch 22/100\n",
            "469/469 [==============================] - 1s 2ms/step - loss: 0.0472 - accuracy: 0.9849\n",
            "Epoch 23/100\n",
            "469/469 [==============================] - 1s 2ms/step - loss: 0.0442 - accuracy: 0.9860\n",
            "Epoch 24/100\n",
            "469/469 [==============================] - 1s 2ms/step - loss: 0.0440 - accuracy: 0.9855\n",
            "Epoch 25/100\n",
            "469/469 [==============================] - 1s 2ms/step - loss: 0.0460 - accuracy: 0.9851\n",
            "Epoch 26/100\n",
            "469/469 [==============================] - 1s 3ms/step - loss: 0.0447 - accuracy: 0.9856\n",
            "Epoch 27/100\n",
            "469/469 [==============================] - 1s 3ms/step - loss: 0.0408 - accuracy: 0.9868\n",
            "Epoch 28/100\n",
            "469/469 [==============================] - 1s 3ms/step - loss: 0.0397 - accuracy: 0.9871\n",
            "Epoch 29/100\n",
            "469/469 [==============================] - 1s 3ms/step - loss: 0.0419 - accuracy: 0.9867\n",
            "Epoch 30/100\n",
            "469/469 [==============================] - 1s 2ms/step - loss: 0.0413 - accuracy: 0.9873\n",
            "Epoch 31/100\n",
            "469/469 [==============================] - 1s 2ms/step - loss: 0.0380 - accuracy: 0.9880\n",
            "Epoch 32/100\n",
            "469/469 [==============================] - 1s 3ms/step - loss: 0.0414 - accuracy: 0.9865\n",
            "Epoch 33/100\n",
            "469/469 [==============================] - 1s 3ms/step - loss: 0.0384 - accuracy: 0.9875\n",
            "Epoch 34/100\n",
            "469/469 [==============================] - 1s 3ms/step - loss: 0.0390 - accuracy: 0.9873\n",
            "Epoch 35/100\n",
            "469/469 [==============================] - 1s 2ms/step - loss: 0.0388 - accuracy: 0.9875\n",
            "Epoch 36/100\n",
            "469/469 [==============================] - 1s 3ms/step - loss: 0.0358 - accuracy: 0.9883\n",
            "Epoch 37/100\n",
            "469/469 [==============================] - 1s 3ms/step - loss: 0.0371 - accuracy: 0.9877\n",
            "Epoch 38/100\n",
            "469/469 [==============================] - 1s 3ms/step - loss: 0.0378 - accuracy: 0.9877\n",
            "Epoch 39/100\n",
            "469/469 [==============================] - 1s 2ms/step - loss: 0.0341 - accuracy: 0.9890\n",
            "Epoch 40/100\n",
            "469/469 [==============================] - 1s 2ms/step - loss: 0.0386 - accuracy: 0.9876\n",
            "Epoch 41/100\n",
            "469/469 [==============================] - 1s 2ms/step - loss: 0.0367 - accuracy: 0.9888\n",
            "Epoch 42/100\n",
            "469/469 [==============================] - 1s 2ms/step - loss: 0.0352 - accuracy: 0.9890\n",
            "Epoch 43/100\n",
            "469/469 [==============================] - 1s 3ms/step - loss: 0.0374 - accuracy: 0.9881\n",
            "Epoch 44/100\n",
            "469/469 [==============================] - 1s 3ms/step - loss: 0.0336 - accuracy: 0.9897\n",
            "Epoch 45/100\n",
            "469/469 [==============================] - 1s 3ms/step - loss: 0.0330 - accuracy: 0.9898\n",
            "Epoch 46/100\n",
            "469/469 [==============================] - 1s 2ms/step - loss: 0.0353 - accuracy: 0.9890\n",
            "Epoch 47/100\n",
            "469/469 [==============================] - 1s 2ms/step - loss: 0.0349 - accuracy: 0.9890\n",
            "Epoch 48/100\n",
            "469/469 [==============================] - 1s 2ms/step - loss: 0.0350 - accuracy: 0.9891\n",
            "Epoch 49/100\n",
            "469/469 [==============================] - 1s 2ms/step - loss: 0.0361 - accuracy: 0.9891\n",
            "Epoch 50/100\n",
            "469/469 [==============================] - 1s 2ms/step - loss: 0.0339 - accuracy: 0.9895\n",
            "Epoch 51/100\n",
            "469/469 [==============================] - 1s 2ms/step - loss: 0.0318 - accuracy: 0.9902\n",
            "Epoch 52/100\n",
            "469/469 [==============================] - 1s 2ms/step - loss: 0.0352 - accuracy: 0.9891\n",
            "Epoch 53/100\n",
            "469/469 [==============================] - 1s 2ms/step - loss: 0.0329 - accuracy: 0.9898\n",
            "Epoch 54/100\n",
            "469/469 [==============================] - 1s 2ms/step - loss: 0.0311 - accuracy: 0.9904\n",
            "Epoch 55/100\n",
            "469/469 [==============================] - 1s 3ms/step - loss: 0.0336 - accuracy: 0.9895\n",
            "Epoch 56/100\n",
            "469/469 [==============================] - 1s 2ms/step - loss: 0.0306 - accuracy: 0.9901\n",
            "Epoch 57/100\n",
            "469/469 [==============================] - 1s 2ms/step - loss: 0.0362 - accuracy: 0.9886\n",
            "Epoch 58/100\n",
            "469/469 [==============================] - 1s 3ms/step - loss: 0.0303 - accuracy: 0.9905\n",
            "Epoch 59/100\n",
            "469/469 [==============================] - 1s 3ms/step - loss: 0.0320 - accuracy: 0.9902\n",
            "Epoch 60/100\n",
            "469/469 [==============================] - 1s 3ms/step - loss: 0.0314 - accuracy: 0.9905\n",
            "Epoch 61/100\n",
            "469/469 [==============================] - 1s 2ms/step - loss: 0.0294 - accuracy: 0.9912\n",
            "Epoch 62/100\n",
            "469/469 [==============================] - 1s 3ms/step - loss: 0.0296 - accuracy: 0.9908\n",
            "Epoch 63/100\n",
            "469/469 [==============================] - 1s 2ms/step - loss: 0.0290 - accuracy: 0.9910\n",
            "Epoch 64/100\n",
            "469/469 [==============================] - 1s 2ms/step - loss: 0.0306 - accuracy: 0.9903\n",
            "Epoch 65/100\n",
            "469/469 [==============================] - 1s 2ms/step - loss: 0.0313 - accuracy: 0.9910\n",
            "Epoch 66/100\n",
            "469/469 [==============================] - 1s 2ms/step - loss: 0.0288 - accuracy: 0.9910\n",
            "Epoch 67/100\n",
            "469/469 [==============================] - 1s 2ms/step - loss: 0.0290 - accuracy: 0.9910\n",
            "Epoch 68/100\n",
            "469/469 [==============================] - 1s 2ms/step - loss: 0.0323 - accuracy: 0.9904\n",
            "Epoch 69/100\n",
            "469/469 [==============================] - 1s 2ms/step - loss: 0.0321 - accuracy: 0.9906\n",
            "Epoch 70/100\n",
            "469/469 [==============================] - 1s 2ms/step - loss: 0.0288 - accuracy: 0.9916\n",
            "Epoch 71/100\n",
            "469/469 [==============================] - 1s 2ms/step - loss: 0.0303 - accuracy: 0.9910\n",
            "Epoch 72/100\n",
            "469/469 [==============================] - 1s 2ms/step - loss: 0.0304 - accuracy: 0.9907\n",
            "Epoch 73/100\n",
            "469/469 [==============================] - 1s 2ms/step - loss: 0.0298 - accuracy: 0.9912\n",
            "Epoch 74/100\n",
            "469/469 [==============================] - 1s 3ms/step - loss: 0.0260 - accuracy: 0.9923\n",
            "Epoch 75/100\n",
            "469/469 [==============================] - 1s 3ms/step - loss: 0.0319 - accuracy: 0.9909\n",
            "Epoch 76/100\n",
            "469/469 [==============================] - 1s 3ms/step - loss: 0.0302 - accuracy: 0.9909\n",
            "Epoch 77/100\n",
            "469/469 [==============================] - 1s 3ms/step - loss: 0.0246 - accuracy: 0.9927\n",
            "Epoch 78/100\n",
            "469/469 [==============================] - 1s 3ms/step - loss: 0.0289 - accuracy: 0.9909\n",
            "Epoch 79/100\n",
            "469/469 [==============================] - 1s 3ms/step - loss: 0.0278 - accuracy: 0.9916\n",
            "Epoch 80/100\n",
            "469/469 [==============================] - 1s 3ms/step - loss: 0.0268 - accuracy: 0.9918\n",
            "Epoch 81/100\n",
            "469/469 [==============================] - 1s 3ms/step - loss: 0.0273 - accuracy: 0.9921\n",
            "Epoch 82/100\n",
            "469/469 [==============================] - 1s 3ms/step - loss: 0.0246 - accuracy: 0.9923\n",
            "Epoch 83/100\n",
            "469/469 [==============================] - 1s 3ms/step - loss: 0.0287 - accuracy: 0.9918\n",
            "Epoch 84/100\n",
            "469/469 [==============================] - 1s 3ms/step - loss: 0.0298 - accuracy: 0.9913\n",
            "Epoch 85/100\n",
            "469/469 [==============================] - 1s 3ms/step - loss: 0.0281 - accuracy: 0.9915\n",
            "Epoch 86/100\n",
            "469/469 [==============================] - 1s 3ms/step - loss: 0.0268 - accuracy: 0.9920\n",
            "Epoch 87/100\n",
            "469/469 [==============================] - 1s 3ms/step - loss: 0.0307 - accuracy: 0.9905\n",
            "Epoch 88/100\n",
            "469/469 [==============================] - 1s 2ms/step - loss: 0.0280 - accuracy: 0.9916\n",
            "Epoch 89/100\n",
            "469/469 [==============================] - 1s 2ms/step - loss: 0.0290 - accuracy: 0.9914\n",
            "Epoch 90/100\n",
            "469/469 [==============================] - 1s 2ms/step - loss: 0.0250 - accuracy: 0.9926\n",
            "Epoch 91/100\n",
            "469/469 [==============================] - 1s 2ms/step - loss: 0.0274 - accuracy: 0.9921\n",
            "Epoch 92/100\n",
            "469/469 [==============================] - 1s 2ms/step - loss: 0.0285 - accuracy: 0.9919\n",
            "Epoch 93/100\n",
            "469/469 [==============================] - 1s 2ms/step - loss: 0.0295 - accuracy: 0.9916\n",
            "Epoch 94/100\n",
            "469/469 [==============================] - 1s 2ms/step - loss: 0.0253 - accuracy: 0.9928\n",
            "Epoch 95/100\n",
            "469/469 [==============================] - 1s 3ms/step - loss: 0.0253 - accuracy: 0.9921\n",
            "Epoch 96/100\n",
            "469/469 [==============================] - 1s 3ms/step - loss: 0.0306 - accuracy: 0.9914\n",
            "Epoch 97/100\n",
            "469/469 [==============================] - 1s 2ms/step - loss: 0.0256 - accuracy: 0.9931\n",
            "Epoch 98/100\n",
            "469/469 [==============================] - 1s 3ms/step - loss: 0.0255 - accuracy: 0.9924\n",
            "Epoch 99/100\n",
            "469/469 [==============================] - 1s 2ms/step - loss: 0.0269 - accuracy: 0.9923\n",
            "Epoch 100/100\n",
            "469/469 [==============================] - 1s 2ms/step - loss: 0.0264 - accuracy: 0.9922\n"
          ],
          "name": "stdout"
        },
        {
          "output_type": "execute_result",
          "data": {
            "text/plain": [
              "<tensorflow.python.keras.callbacks.History at 0x7fd1dd0726a0>"
            ]
          },
          "metadata": {
            "tags": []
          },
          "execution_count": 139
        }
      ]
    },
    {
      "cell_type": "code",
      "metadata": {
        "id": "RMbJODmkbhhm",
        "colab_type": "code",
        "colab": {}
      },
      "source": [
        "#load Training data into a datalist\n",
        "data_file = open(\"//content/gdrive/My Drive/MNIST/mnist_test.csv\",'r')\n",
        "data_list = data_file.readlines()\n",
        "data_file.close()"
      ],
      "execution_count": 140,
      "outputs": []
    },
    {
      "cell_type": "code",
      "metadata": {
        "id": "n-rWSI1dboeg",
        "colab_type": "code",
        "colab": {}
      },
      "source": [
        "#Load data and labels into X_test and y_test respectively\n",
        "X_test = []\n",
        "y_test = []\n",
        "for rows in data_list:\n",
        "  X_test.append(np.asfarray(rows.split(',')[1:]))\n",
        "  y_test.append(int(rows.split(',')[0]))\n",
        "X_test = np.array(X_test)/255.0 + 0.01 #scaling test data\n",
        "y_test = np.array(y_test)"
      ],
      "execution_count": 141,
      "outputs": []
    },
    {
      "cell_type": "code",
      "metadata": {
        "id": "kSoiJ2NSb7TJ",
        "colab_type": "code",
        "colab": {
          "base_uri": "https://localhost:8080/",
          "height": 54
        },
        "outputId": "6c7d322e-285a-4f03-9642-aeb511fe7a9d"
      },
      "source": [
        "#Evaluate the trained model on test data\n",
        "model.evaluate(X_test,y_test)"
      ],
      "execution_count": 142,
      "outputs": [
        {
          "output_type": "stream",
          "text": [
            "313/313 [==============================] - 1s 2ms/step - loss: 0.1287 - accuracy: 0.9792\n"
          ],
          "name": "stdout"
        },
        {
          "output_type": "execute_result",
          "data": {
            "text/plain": [
              "[0.1286822408437729, 0.979200005531311]"
            ]
          },
          "metadata": {
            "tags": []
          },
          "execution_count": 142
        }
      ]
    },
    {
      "cell_type": "code",
      "metadata": {
        "id": "t3NqAgvbeONQ",
        "colab_type": "code",
        "colab": {
          "base_uri": "https://localhost:8080/",
          "height": 1000
        },
        "outputId": "4453f4eb-975a-4ade-8c91-01f7bbda3e67"
      },
      "source": [
        "#Check a couple of images and their corresponding labels.\n",
        "plt.pyplot.imshow(X_test[1458].reshape([28,28]),cmap='Greys',interpolation='None')\n",
        "print(X_test[1458])"
      ],
      "execution_count": 143,
      "outputs": [
        {
          "output_type": "stream",
          "text": [
            "[0.01       0.01       0.01       0.01       0.01       0.01\n",
            " 0.01       0.01       0.01       0.01       0.01       0.01\n",
            " 0.01       0.01       0.01       0.01       0.01       0.01\n",
            " 0.01       0.01       0.01       0.01       0.01       0.01\n",
            " 0.01       0.01       0.01       0.01       0.01       0.01\n",
            " 0.01       0.01       0.01       0.01       0.01       0.01\n",
            " 0.01       0.01       0.01       0.01       0.01       0.01\n",
            " 0.01       0.01       0.01       0.01       0.01       0.01\n",
            " 0.01       0.01       0.01       0.01       0.01       0.01\n",
            " 0.01       0.01       0.01       0.01       0.01       0.01\n",
            " 0.01       0.01       0.01       0.01       0.01       0.01\n",
            " 0.01       0.01       0.01       0.01       0.01       0.01\n",
            " 0.01       0.01       0.01       0.01       0.01       0.01\n",
            " 0.01       0.01       0.01       0.01       0.01       0.01\n",
            " 0.01       0.01       0.01       0.01       0.01       0.01\n",
            " 0.01       0.01       0.01       0.01       0.01       0.01\n",
            " 0.01       0.01       0.01       0.01       0.27666667 0.4727451\n",
            " 0.98647059 0.83745098 0.10803922 0.01       0.01       0.01\n",
            " 0.01       0.01       0.01       0.01       0.01       0.01\n",
            " 0.01       0.01       0.01       0.01       0.01       0.01\n",
            " 0.01       0.01       0.01       0.01       0.01       0.32372549\n",
            " 0.78647059 0.93156863 0.97470588 1.00607843 1.00607843 1.00607843\n",
            " 0.22568627 0.01       0.01       0.01       0.01       0.01\n",
            " 0.01       0.01       0.01       0.01       0.01       0.01\n",
            " 0.01       0.01       0.01       0.01       0.01       0.01\n",
            " 0.01       0.37862745 0.84921569 0.97862745 1.00607843 1.00607843\n",
            " 1.00607843 1.00607843 1.00607843 0.91196078 0.15901961 0.01\n",
            " 0.01       0.01       0.01       0.01       0.01       0.01\n",
            " 0.01       0.01       0.01       0.01       0.01       0.01\n",
            " 0.01       0.01       0.01       0.14333333 0.50803922 0.8727451\n",
            " 1.00607843 1.00607843 1.00607843 0.86490196 0.79039216 0.89627451\n",
            " 0.91980392 0.24529412 0.01       0.01       0.01       0.01\n",
            " 0.01       0.01       0.01       0.01       0.01       0.01\n",
            " 0.01       0.01       0.01       0.01       0.01       0.01\n",
            " 0.17862745 0.88058824 1.00607843 1.00607843 1.00607843 0.89627451\n",
            " 0.47666667 0.12372549 0.01       0.43352941 0.22960784 0.01\n",
            " 0.01       0.01       0.01       0.01       0.01       0.01\n",
            " 0.01       0.01       0.01       0.01       0.01       0.01\n",
            " 0.01       0.01       0.02960784 0.18254902 0.88058824 1.00607843\n",
            " 1.00607843 0.95509804 0.46882353 0.0845098  0.01       0.01\n",
            " 0.01       0.01       0.01       0.01       0.01       0.01\n",
            " 0.01       0.01       0.01       0.01       0.01       0.01\n",
            " 0.01       0.01       0.01       0.01       0.01       0.01\n",
            " 0.31196078 1.00607843 1.00607843 1.00607843 0.74333333 0.02176471\n",
            " 0.01       0.01       0.01       0.01       0.01       0.01\n",
            " 0.01       0.01       0.01       0.01       0.01       0.01\n",
            " 0.01       0.01       0.01       0.01       0.01       0.01\n",
            " 0.01       0.01       0.01       0.01       0.31196078 1.00607843\n",
            " 1.00607843 0.71980392 0.02176471 0.01       0.01       0.01\n",
            " 0.01       0.01       0.01       0.01       0.01       0.01\n",
            " 0.01       0.01       0.01       0.01       0.01       0.01\n",
            " 0.01       0.01       0.01       0.01       0.01       0.01\n",
            " 0.01       0.01       0.79431373 1.00607843 0.69235294 0.05313725\n",
            " 0.01       0.01       0.01       0.01       0.01       0.01\n",
            " 0.01       0.01       0.01       0.01       0.01       0.01\n",
            " 0.01       0.01       0.01       0.01       0.01       0.01\n",
            " 0.01       0.01       0.01       0.01       0.01       0.01\n",
            " 0.84921569 1.00607843 0.33156863 0.01       0.01       0.01\n",
            " 0.01       0.01       0.01       0.01       0.01       0.01\n",
            " 0.01       0.24921569 0.21784314 0.01       0.01       0.01\n",
            " 0.01       0.01       0.01       0.01       0.01       0.01\n",
            " 0.01       0.01       0.01       0.01       0.84921569 1.00607843\n",
            " 0.33156863 0.01       0.01       0.01       0.01       0.01\n",
            " 0.01       0.01       0.01784314 0.20215686 0.71588235 0.97470588\n",
            " 0.94333333 0.22568627 0.01       0.01       0.01       0.01\n",
            " 0.01       0.01       0.01       0.01       0.01       0.01\n",
            " 0.01       0.21784314 0.9354902  1.00607843 0.33156863 0.01\n",
            " 0.01       0.01       0.01       0.01       0.01       0.02568627\n",
            " 0.44137255 1.00607843 1.00607843 1.00607843 1.00607843 0.6727451\n",
            " 0.05313725 0.01       0.01       0.01       0.01       0.01\n",
            " 0.01       0.01       0.01       0.01       0.01       0.01\n",
            " 0.83745098 1.00607843 0.3472549  0.01       0.01       0.01\n",
            " 0.01       0.01       0.11980392 0.62568627 1.00607843 1.00607843\n",
            " 0.99823529 0.80215686 0.88843137 1.00607843 0.38647059 0.01\n",
            " 0.01       0.01       0.01       0.01       0.01       0.01\n",
            " 0.01       0.01       0.01       0.01       0.31196078 1.00607843\n",
            " 0.8727451  0.01       0.01       0.01       0.01       0.01\n",
            " 0.20215686 1.00607843 1.00607843 1.00607843 0.33941176 0.01\n",
            " 0.79431373 1.00607843 0.38647059 0.01       0.01       0.01\n",
            " 0.01       0.01       0.01       0.01       0.01       0.01\n",
            " 0.01       0.01       0.31196078 1.00607843 1.00215686 0.61392157\n",
            " 0.01       0.01       0.01       0.01       0.71588235 1.00607843\n",
            " 1.00607843 0.74333333 0.9354902  0.95901961 0.99823529 1.00607843\n",
            " 0.38647059 0.01       0.01       0.01       0.01       0.01\n",
            " 0.01       0.01       0.01       0.01       0.01       0.01\n",
            " 0.04921569 0.62176471 1.00607843 0.97078431 0.33941176 0.19431373\n",
            " 0.01       0.01       0.2727451  1.01       1.00607843 1.00607843\n",
            " 1.00607843 1.00607843 1.00607843 0.86490196 0.06098039 0.01\n",
            " 0.01       0.01       0.01       0.01       0.01       0.01\n",
            " 0.01       0.01       0.01       0.01       0.01       0.17470588\n",
            " 0.93156863 1.00607843 1.00607843 0.91588235 0.31196078 0.25705882\n",
            " 0.40215686 1.00607843 1.00607843 1.00607843 1.00607843 1.00607843\n",
            " 1.00607843 0.71196078 0.01       0.01       0.01       0.01\n",
            " 0.01       0.01       0.01       0.01       0.01       0.01\n",
            " 0.01       0.01       0.01       0.01       0.2845098  0.94333333\n",
            " 1.00607843 1.00607843 1.00607843 1.00607843 1.00607843 1.00607843\n",
            " 1.00607843 1.00607843 1.00607843 1.00607843 0.88058824 0.25705882\n",
            " 0.01       0.01       0.01       0.01       0.01       0.01\n",
            " 0.01       0.01       0.01       0.01       0.01       0.01\n",
            " 0.01       0.01       0.01       0.26490196 0.92764706 0.92764706\n",
            " 0.99823529 1.00607843 1.00607843 1.00607843 1.00607843 0.96686275\n",
            " 0.92764706 0.45705882 0.09235294 0.01       0.01       0.01\n",
            " 0.01       0.01       0.01       0.01       0.01       0.01\n",
            " 0.01       0.01       0.01       0.01       0.01       0.01\n",
            " 0.01       0.01       0.01       0.01       0.42176471 0.46882353\n",
            " 0.46882353 0.81784314 0.69627451 0.24529412 0.01       0.01\n",
            " 0.01       0.01       0.01       0.01       0.01       0.01\n",
            " 0.01       0.01       0.01       0.01       0.01       0.01\n",
            " 0.01       0.01       0.01       0.01       0.01       0.01\n",
            " 0.01       0.01       0.01       0.01       0.01       0.01\n",
            " 0.01       0.01       0.01       0.01       0.01       0.01\n",
            " 0.01       0.01       0.01       0.01       0.01       0.01\n",
            " 0.01       0.01       0.01       0.01       0.01       0.01\n",
            " 0.01       0.01       0.01       0.01       0.01       0.01\n",
            " 0.01       0.01       0.01       0.01       0.01       0.01\n",
            " 0.01       0.01       0.01       0.01       0.01       0.01\n",
            " 0.01       0.01       0.01       0.01       0.01       0.01\n",
            " 0.01       0.01       0.01       0.01       0.01       0.01\n",
            " 0.01       0.01       0.01       0.01       0.01       0.01\n",
            " 0.01       0.01       0.01       0.01       0.01       0.01\n",
            " 0.01       0.01       0.01       0.01       0.01       0.01\n",
            " 0.01       0.01       0.01       0.01       0.01       0.01\n",
            " 0.01       0.01       0.01       0.01       0.01       0.01\n",
            " 0.01       0.01       0.01       0.01       0.01       0.01\n",
            " 0.01       0.01       0.01       0.01       0.01       0.01\n",
            " 0.01       0.01       0.01       0.01       0.01       0.01\n",
            " 0.01       0.01       0.01       0.01       0.01       0.01\n",
            " 0.01       0.01       0.01       0.01       0.01       0.01\n",
            " 0.01       0.01       0.01       0.01       0.01       0.01\n",
            " 0.01       0.01       0.01       0.01       0.01       0.01\n",
            " 0.01       0.01       0.01       0.01      ]\n"
          ],
          "name": "stdout"
        },
        {
          "output_type": "display_data",
          "data": {
            "image/png": "[encoded data removed]",
            "text/plain": [
              "<Figure size 432x288 with 1 Axes>"
            ]
          },
          "metadata": {
            "tags": [],
            "needs_background": "light"
          }
        }
      ]
    },
    {
      "cell_type": "code",
      "metadata": {
        "id": "R3EpO08XefrI",
        "colab_type": "code",
        "colab": {
          "base_uri": "https://localhost:8080/",
          "height": 36
        },
        "outputId": "492b0cf7-b581-4d57-fc63-ca0347ad6352"
      },
      "source": [
        "pred_image = np.expand_dims(X_test[1458], axis=0)\n",
        "np.argmax(model.predict(pred_image))"
      ],
      "execution_count": 172,
      "outputs": [
        {
          "output_type": "execute_result",
          "data": {
            "text/plain": [
              "6"
            ]
          },
          "metadata": {
            "tags": []
          },
          "execution_count": 172
        }
      ]
    },
    {
      "cell_type": "code",
      "metadata": {
        "id": "QPhMXdwi4bPP",
        "colab_type": "code",
        "colab": {
          "base_uri": "https://localhost:8080/",
          "height": 36
        },
        "outputId": "a6433ae4-3786-40f2-fdbb-9f9d8d65d582"
      },
      "source": [
        "pip install pillow"
      ],
      "execution_count": null,
      "outputs": [
        {
          "output_type": "stream",
          "text": [
            "Requirement already satisfied: pillow in /usr/local/lib/python3.6/dist-packages (7.0.0)\n"
          ],
          "name": "stdout"
        }
      ]
    },
    {
      "cell_type": "code",
      "metadata": {
        "id": "-yXTepUV5z2T",
        "colab_type": "code",
        "colab": {
          "base_uri": "https://localhost:8080/",
          "height": 265
        },
        "outputId": "6bdbd461-6ba1-4254-b18a-69250b21898f"
      },
      "source": [
        "img = Image.open(\"//content/gdrive/My Drive/MNIST/six.jpg\")\n",
        "img = img.convert(\"L\")\n",
        "img = np.array(img.resize((28,28)))\n",
        "plt.pyplot.imshow(img)\n",
        "img = ((255.0 - img.reshape(784))/255.0 * 0.99 ) + 0.01\n",
        "#print(img)"
      ],
      "execution_count": 170,
      "outputs": [
        {
          "output_type": "display_data",
          "data": {
            "image/png": "[encoded data removed]",
            "text/plain": [
              "<Figure size 432x288 with 1 Axes>"
            ]
          },
          "metadata": {
            "tags": [],
            "needs_background": "light"
          }
        }
      ]
    },
    {
      "cell_type": "code",
      "metadata": {
        "id": "K0dpZxPKjfNp",
        "colab_type": "code",
        "colab": {
          "base_uri": "https://localhost:8080/",
          "height": 36
        },
        "outputId": "7183bb9d-5b9a-4285-b91e-7195e5dea40f"
      },
      "source": [
        "pred_image = np.expand_dims(img, axis=0)\n",
        "np.argmax(model.predict(pred_image))\n",
        "#model.predict(pred_image)"
      ],
      "execution_count": 171,
      "outputs": [
        {
          "output_type": "execute_result",
          "data": {
            "text/plain": [
              "5"
            ]
          },
          "metadata": {
            "tags": []
          },
          "execution_count": 171
        }
      ]
    }
  ]
}